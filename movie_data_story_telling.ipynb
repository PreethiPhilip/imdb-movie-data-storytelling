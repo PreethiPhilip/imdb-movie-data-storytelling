{
 "cells": [
  {
   "cell_type": "code",
   "execution_count": 2,
   "id": "f345d0db",
   "metadata": {},
   "outputs": [
    {
     "name": "stderr",
     "output_type": "stream",
     "text": [
      "UsageError: Line magic function `%` not found.\n"
     ]
    }
   ],
   "source": [
    "import pandas as pd\n",
    "import numpy as np\n",
    "import seaborn as sb\n",
    "import matplotlib.pyplot as plt \n",
    "from ast import literal_eval\n",
    "% matplotlib inline\n",
    "import warnings\n",
    "\n",
    "warnings.filterwarnings(\"ignore\")\n",
    "\n"
   ]
  },
  {
   "cell_type": "code",
   "execution_count": 3,
   "id": "c014a6e8",
   "metadata": {},
   "outputs": [
    {
     "name": "stderr",
     "output_type": "stream",
     "text": [
      "/Users/preethi/opt/anaconda3/lib/python3.9/site-packages/IPython/core/interactiveshell.py:3444: DtypeWarning: Columns (10) have mixed types.Specify dtype option on import or set low_memory=False.\n",
      "  exec(code_obj, self.user_global_ns, self.user_ns)\n"
     ]
    }
   ],
   "source": [
    "df = pd.read_csv('movies-metadata.csv')"
   ]
  },
  {
   "cell_type": "code",
   "execution_count": 4,
   "id": "b4a0e257",
   "metadata": {},
   "outputs": [
    {
     "data": {
      "text/html": [
       "<div>\n",
       "<style scoped>\n",
       "    .dataframe tbody tr th:only-of-type {\n",
       "        vertical-align: middle;\n",
       "    }\n",
       "\n",
       "    .dataframe tbody tr th {\n",
       "        vertical-align: top;\n",
       "    }\n",
       "\n",
       "    .dataframe thead th {\n",
       "        text-align: right;\n",
       "    }\n",
       "</style>\n",
       "<table border=\"1\" class=\"dataframe\">\n",
       "  <thead>\n",
       "    <tr style=\"text-align: right;\">\n",
       "      <th></th>\n",
       "      <th>adult</th>\n",
       "      <th>belongs_to_collection</th>\n",
       "      <th>budget</th>\n",
       "      <th>genres</th>\n",
       "      <th>homepage</th>\n",
       "      <th>id</th>\n",
       "      <th>imdb_id</th>\n",
       "      <th>original_language</th>\n",
       "      <th>original_title</th>\n",
       "      <th>overview</th>\n",
       "      <th>...</th>\n",
       "      <th>release_date</th>\n",
       "      <th>revenue</th>\n",
       "      <th>runtime</th>\n",
       "      <th>spoken_languages</th>\n",
       "      <th>status</th>\n",
       "      <th>tagline</th>\n",
       "      <th>title</th>\n",
       "      <th>video</th>\n",
       "      <th>vote_average</th>\n",
       "      <th>vote_count</th>\n",
       "    </tr>\n",
       "  </thead>\n",
       "  <tbody>\n",
       "    <tr>\n",
       "      <th>0</th>\n",
       "      <td>False</td>\n",
       "      <td>{'id': 10194, 'name': 'Toy Story Collection', ...</td>\n",
       "      <td>30000000</td>\n",
       "      <td>[{'id': 16, 'name': 'Animation'}, {'id': 35, '...</td>\n",
       "      <td>http://toystory.disney.com/toy-story</td>\n",
       "      <td>862</td>\n",
       "      <td>tt0114709</td>\n",
       "      <td>en</td>\n",
       "      <td>Toy Story</td>\n",
       "      <td>Led by Woody, Andy's toys live happily in his ...</td>\n",
       "      <td>...</td>\n",
       "      <td>1995-10-30</td>\n",
       "      <td>373554033.0</td>\n",
       "      <td>81.0</td>\n",
       "      <td>[{'iso_639_1': 'en', 'name': 'English'}]</td>\n",
       "      <td>Released</td>\n",
       "      <td>NaN</td>\n",
       "      <td>Toy Story</td>\n",
       "      <td>False</td>\n",
       "      <td>7.7</td>\n",
       "      <td>5415.0</td>\n",
       "    </tr>\n",
       "    <tr>\n",
       "      <th>1</th>\n",
       "      <td>False</td>\n",
       "      <td>NaN</td>\n",
       "      <td>65000000</td>\n",
       "      <td>[{'id': 12, 'name': 'Adventure'}, {'id': 14, '...</td>\n",
       "      <td>NaN</td>\n",
       "      <td>8844</td>\n",
       "      <td>tt0113497</td>\n",
       "      <td>en</td>\n",
       "      <td>Jumanji</td>\n",
       "      <td>When siblings Judy and Peter discover an encha...</td>\n",
       "      <td>...</td>\n",
       "      <td>1995-12-15</td>\n",
       "      <td>262797249.0</td>\n",
       "      <td>104.0</td>\n",
       "      <td>[{'iso_639_1': 'en', 'name': 'English'}, {'iso...</td>\n",
       "      <td>Released</td>\n",
       "      <td>Roll the dice and unleash the excitement!</td>\n",
       "      <td>Jumanji</td>\n",
       "      <td>False</td>\n",
       "      <td>6.9</td>\n",
       "      <td>2413.0</td>\n",
       "    </tr>\n",
       "    <tr>\n",
       "      <th>2</th>\n",
       "      <td>False</td>\n",
       "      <td>{'id': 119050, 'name': 'Grumpy Old Men Collect...</td>\n",
       "      <td>0</td>\n",
       "      <td>[{'id': 10749, 'name': 'Romance'}, {'id': 35, ...</td>\n",
       "      <td>NaN</td>\n",
       "      <td>15602</td>\n",
       "      <td>tt0113228</td>\n",
       "      <td>en</td>\n",
       "      <td>Grumpier Old Men</td>\n",
       "      <td>A family wedding reignites the ancient feud be...</td>\n",
       "      <td>...</td>\n",
       "      <td>1995-12-22</td>\n",
       "      <td>0.0</td>\n",
       "      <td>101.0</td>\n",
       "      <td>[{'iso_639_1': 'en', 'name': 'English'}]</td>\n",
       "      <td>Released</td>\n",
       "      <td>Still Yelling. Still Fighting. Still Ready for...</td>\n",
       "      <td>Grumpier Old Men</td>\n",
       "      <td>False</td>\n",
       "      <td>6.5</td>\n",
       "      <td>92.0</td>\n",
       "    </tr>\n",
       "    <tr>\n",
       "      <th>3</th>\n",
       "      <td>False</td>\n",
       "      <td>NaN</td>\n",
       "      <td>16000000</td>\n",
       "      <td>[{'id': 35, 'name': 'Comedy'}, {'id': 18, 'nam...</td>\n",
       "      <td>NaN</td>\n",
       "      <td>31357</td>\n",
       "      <td>tt0114885</td>\n",
       "      <td>en</td>\n",
       "      <td>Waiting to Exhale</td>\n",
       "      <td>Cheated on, mistreated and stepped on, the wom...</td>\n",
       "      <td>...</td>\n",
       "      <td>1995-12-22</td>\n",
       "      <td>81452156.0</td>\n",
       "      <td>127.0</td>\n",
       "      <td>[{'iso_639_1': 'en', 'name': 'English'}]</td>\n",
       "      <td>Released</td>\n",
       "      <td>Friends are the people who let you be yourself...</td>\n",
       "      <td>Waiting to Exhale</td>\n",
       "      <td>False</td>\n",
       "      <td>6.1</td>\n",
       "      <td>34.0</td>\n",
       "    </tr>\n",
       "    <tr>\n",
       "      <th>4</th>\n",
       "      <td>False</td>\n",
       "      <td>{'id': 96871, 'name': 'Father of the Bride Col...</td>\n",
       "      <td>0</td>\n",
       "      <td>[{'id': 35, 'name': 'Comedy'}]</td>\n",
       "      <td>NaN</td>\n",
       "      <td>11862</td>\n",
       "      <td>tt0113041</td>\n",
       "      <td>en</td>\n",
       "      <td>Father of the Bride Part II</td>\n",
       "      <td>Just when George Banks has recovered from his ...</td>\n",
       "      <td>...</td>\n",
       "      <td>1995-02-10</td>\n",
       "      <td>76578911.0</td>\n",
       "      <td>106.0</td>\n",
       "      <td>[{'iso_639_1': 'en', 'name': 'English'}]</td>\n",
       "      <td>Released</td>\n",
       "      <td>Just When His World Is Back To Normal... He's ...</td>\n",
       "      <td>Father of the Bride Part II</td>\n",
       "      <td>False</td>\n",
       "      <td>5.7</td>\n",
       "      <td>173.0</td>\n",
       "    </tr>\n",
       "  </tbody>\n",
       "</table>\n",
       "<p>5 rows × 24 columns</p>\n",
       "</div>"
      ],
      "text/plain": [
       "   adult                              belongs_to_collection    budget  \\\n",
       "0  False  {'id': 10194, 'name': 'Toy Story Collection', ...  30000000   \n",
       "1  False                                                NaN  65000000   \n",
       "2  False  {'id': 119050, 'name': 'Grumpy Old Men Collect...         0   \n",
       "3  False                                                NaN  16000000   \n",
       "4  False  {'id': 96871, 'name': 'Father of the Bride Col...         0   \n",
       "\n",
       "                                              genres  \\\n",
       "0  [{'id': 16, 'name': 'Animation'}, {'id': 35, '...   \n",
       "1  [{'id': 12, 'name': 'Adventure'}, {'id': 14, '...   \n",
       "2  [{'id': 10749, 'name': 'Romance'}, {'id': 35, ...   \n",
       "3  [{'id': 35, 'name': 'Comedy'}, {'id': 18, 'nam...   \n",
       "4                     [{'id': 35, 'name': 'Comedy'}]   \n",
       "\n",
       "                               homepage     id    imdb_id original_language  \\\n",
       "0  http://toystory.disney.com/toy-story    862  tt0114709                en   \n",
       "1                                   NaN   8844  tt0113497                en   \n",
       "2                                   NaN  15602  tt0113228                en   \n",
       "3                                   NaN  31357  tt0114885                en   \n",
       "4                                   NaN  11862  tt0113041                en   \n",
       "\n",
       "                original_title  \\\n",
       "0                    Toy Story   \n",
       "1                      Jumanji   \n",
       "2             Grumpier Old Men   \n",
       "3            Waiting to Exhale   \n",
       "4  Father of the Bride Part II   \n",
       "\n",
       "                                            overview  ... release_date  \\\n",
       "0  Led by Woody, Andy's toys live happily in his ...  ...   1995-10-30   \n",
       "1  When siblings Judy and Peter discover an encha...  ...   1995-12-15   \n",
       "2  A family wedding reignites the ancient feud be...  ...   1995-12-22   \n",
       "3  Cheated on, mistreated and stepped on, the wom...  ...   1995-12-22   \n",
       "4  Just when George Banks has recovered from his ...  ...   1995-02-10   \n",
       "\n",
       "       revenue runtime                                   spoken_languages  \\\n",
       "0  373554033.0    81.0           [{'iso_639_1': 'en', 'name': 'English'}]   \n",
       "1  262797249.0   104.0  [{'iso_639_1': 'en', 'name': 'English'}, {'iso...   \n",
       "2          0.0   101.0           [{'iso_639_1': 'en', 'name': 'English'}]   \n",
       "3   81452156.0   127.0           [{'iso_639_1': 'en', 'name': 'English'}]   \n",
       "4   76578911.0   106.0           [{'iso_639_1': 'en', 'name': 'English'}]   \n",
       "\n",
       "     status                                            tagline  \\\n",
       "0  Released                                                NaN   \n",
       "1  Released          Roll the dice and unleash the excitement!   \n",
       "2  Released  Still Yelling. Still Fighting. Still Ready for...   \n",
       "3  Released  Friends are the people who let you be yourself...   \n",
       "4  Released  Just When His World Is Back To Normal... He's ...   \n",
       "\n",
       "                         title  video vote_average vote_count  \n",
       "0                    Toy Story  False          7.7     5415.0  \n",
       "1                      Jumanji  False          6.9     2413.0  \n",
       "2             Grumpier Old Men  False          6.5       92.0  \n",
       "3            Waiting to Exhale  False          6.1       34.0  \n",
       "4  Father of the Bride Part II  False          5.7      173.0  \n",
       "\n",
       "[5 rows x 24 columns]"
      ]
     },
     "execution_count": 4,
     "metadata": {},
     "output_type": "execute_result"
    }
   ],
   "source": [
    "df.head()"
   ]
  },
  {
   "cell_type": "code",
   "execution_count": 5,
   "id": "7aad4056",
   "metadata": {},
   "outputs": [
    {
     "data": {
      "text/plain": [
       "(45466, 24)"
      ]
     },
     "execution_count": 5,
     "metadata": {},
     "output_type": "execute_result"
    }
   ],
   "source": [
    "df.shape"
   ]
  },
  {
   "cell_type": "code",
   "execution_count": 6,
   "id": "0d0c902d",
   "metadata": {},
   "outputs": [
    {
     "name": "stdout",
     "output_type": "stream",
     "text": [
      "<class 'pandas.core.frame.DataFrame'>\n",
      "RangeIndex: 45466 entries, 0 to 45465\n",
      "Data columns (total 24 columns):\n",
      " #   Column                 Non-Null Count  Dtype  \n",
      "---  ------                 --------------  -----  \n",
      " 0   adult                  45466 non-null  object \n",
      " 1   belongs_to_collection  4494 non-null   object \n",
      " 2   budget                 45466 non-null  object \n",
      " 3   genres                 45466 non-null  object \n",
      " 4   homepage               7782 non-null   object \n",
      " 5   id                     45466 non-null  object \n",
      " 6   imdb_id                45449 non-null  object \n",
      " 7   original_language      45455 non-null  object \n",
      " 8   original_title         45466 non-null  object \n",
      " 9   overview               44512 non-null  object \n",
      " 10  popularity             45461 non-null  object \n",
      " 11  poster_path            45080 non-null  object \n",
      " 12  production_companies   45463 non-null  object \n",
      " 13  production_countries   45463 non-null  object \n",
      " 14  release_date           45379 non-null  object \n",
      " 15  revenue                45460 non-null  float64\n",
      " 16  runtime                45203 non-null  float64\n",
      " 17  spoken_languages       45460 non-null  object \n",
      " 18  status                 45379 non-null  object \n",
      " 19  tagline                20412 non-null  object \n",
      " 20  title                  45460 non-null  object \n",
      " 21  video                  45460 non-null  object \n",
      " 22  vote_average           45460 non-null  float64\n",
      " 23  vote_count             45460 non-null  float64\n",
      "dtypes: float64(4), object(20)\n",
      "memory usage: 8.3+ MB\n"
     ]
    }
   ],
   "source": [
    "df.info()"
   ]
  },
  {
   "cell_type": "code",
   "execution_count": 7,
   "id": "a33b2b18",
   "metadata": {},
   "outputs": [
    {
     "data": {
      "text/html": [
       "<img src=\"https://image.ibb.co/jYWZp9/wr.png\"/>"
      ],
      "text/plain": [
       "<IPython.core.display.Image object>"
      ]
     },
     "execution_count": 7,
     "metadata": {},
     "output_type": "execute_result"
    }
   ],
   "source": [
    "# Let's use IMDB's weighted rating\n",
    "from IPython.display import Image\n",
    "from IPython.core.display import HTML\n",
    "Image(url= \"https://image.ibb.co/jYWZp9/wr.png\")"
   ]
  },
  {
   "cell_type": "markdown",
   "id": "b30c0cd2",
   "metadata": {},
   "source": [
    "v = is the number of votes for the movie m= the minimum votes required to be listed in the chart R= average rating of the movie C=mean vote across the whole report"
   ]
  },
  {
   "cell_type": "code",
   "execution_count": 8,
   "id": "927cdcfc",
   "metadata": {},
   "outputs": [],
   "source": [
    "c = df['vote_average'].mean()"
   ]
  },
  {
   "cell_type": "code",
   "execution_count": 9,
   "id": "69cafb1c",
   "metadata": {},
   "outputs": [],
   "source": [
    "m = df['vote_count'].quantile(0.9)"
   ]
  },
  {
   "cell_type": "code",
   "execution_count": 10,
   "id": "7905ca34",
   "metadata": {},
   "outputs": [],
   "source": [
    "def weighted_rating(x, m=m, c=c):\n",
    "    v = x['vote_count']\n",
    "    R = x['vote_average']\n",
    "    return (v/(v+m) * R)+(m/(v+m) * c)"
   ]
  },
  {
   "cell_type": "code",
   "execution_count": 11,
   "id": "ea7a0ff4",
   "metadata": {},
   "outputs": [],
   "source": [
    "q_movies = df.copy().loc[df['vote_count'] >=m]"
   ]
  },
  {
   "cell_type": "code",
   "execution_count": 12,
   "id": "a267e793",
   "metadata": {},
   "outputs": [
    {
     "data": {
      "text/html": [
       "<div>\n",
       "<style scoped>\n",
       "    .dataframe tbody tr th:only-of-type {\n",
       "        vertical-align: middle;\n",
       "    }\n",
       "\n",
       "    .dataframe tbody tr th {\n",
       "        vertical-align: top;\n",
       "    }\n",
       "\n",
       "    .dataframe thead th {\n",
       "        text-align: right;\n",
       "    }\n",
       "</style>\n",
       "<table border=\"1\" class=\"dataframe\">\n",
       "  <thead>\n",
       "    <tr style=\"text-align: right;\">\n",
       "      <th></th>\n",
       "      <th>adult</th>\n",
       "      <th>belongs_to_collection</th>\n",
       "      <th>budget</th>\n",
       "      <th>genres</th>\n",
       "      <th>homepage</th>\n",
       "      <th>id</th>\n",
       "      <th>imdb_id</th>\n",
       "      <th>original_language</th>\n",
       "      <th>original_title</th>\n",
       "      <th>overview</th>\n",
       "      <th>...</th>\n",
       "      <th>revenue</th>\n",
       "      <th>runtime</th>\n",
       "      <th>spoken_languages</th>\n",
       "      <th>status</th>\n",
       "      <th>tagline</th>\n",
       "      <th>title</th>\n",
       "      <th>video</th>\n",
       "      <th>vote_average</th>\n",
       "      <th>vote_count</th>\n",
       "      <th>score</th>\n",
       "    </tr>\n",
       "  </thead>\n",
       "  <tbody>\n",
       "    <tr>\n",
       "      <th>0</th>\n",
       "      <td>False</td>\n",
       "      <td>{'id': 10194, 'name': 'Toy Story Collection', ...</td>\n",
       "      <td>30000000</td>\n",
       "      <td>[{'id': 16, 'name': 'Animation'}, {'id': 35, '...</td>\n",
       "      <td>http://toystory.disney.com/toy-story</td>\n",
       "      <td>862</td>\n",
       "      <td>tt0114709</td>\n",
       "      <td>en</td>\n",
       "      <td>Toy Story</td>\n",
       "      <td>Led by Woody, Andy's toys live happily in his ...</td>\n",
       "      <td>...</td>\n",
       "      <td>373554033.0</td>\n",
       "      <td>81.0</td>\n",
       "      <td>[{'iso_639_1': 'en', 'name': 'English'}]</td>\n",
       "      <td>Released</td>\n",
       "      <td>NaN</td>\n",
       "      <td>Toy Story</td>\n",
       "      <td>False</td>\n",
       "      <td>7.7</td>\n",
       "      <td>5415.0</td>\n",
       "      <td>7.640253</td>\n",
       "    </tr>\n",
       "    <tr>\n",
       "      <th>1</th>\n",
       "      <td>False</td>\n",
       "      <td>NaN</td>\n",
       "      <td>65000000</td>\n",
       "      <td>[{'id': 12, 'name': 'Adventure'}, {'id': 14, '...</td>\n",
       "      <td>NaN</td>\n",
       "      <td>8844</td>\n",
       "      <td>tt0113497</td>\n",
       "      <td>en</td>\n",
       "      <td>Jumanji</td>\n",
       "      <td>When siblings Judy and Peter discover an encha...</td>\n",
       "      <td>...</td>\n",
       "      <td>262797249.0</td>\n",
       "      <td>104.0</td>\n",
       "      <td>[{'iso_639_1': 'en', 'name': 'English'}, {'iso...</td>\n",
       "      <td>Released</td>\n",
       "      <td>Roll the dice and unleash the excitement!</td>\n",
       "      <td>Jumanji</td>\n",
       "      <td>False</td>\n",
       "      <td>6.9</td>\n",
       "      <td>2413.0</td>\n",
       "      <td>6.820293</td>\n",
       "    </tr>\n",
       "    <tr>\n",
       "      <th>4</th>\n",
       "      <td>False</td>\n",
       "      <td>{'id': 96871, 'name': 'Father of the Bride Col...</td>\n",
       "      <td>0</td>\n",
       "      <td>[{'id': 35, 'name': 'Comedy'}]</td>\n",
       "      <td>NaN</td>\n",
       "      <td>11862</td>\n",
       "      <td>tt0113041</td>\n",
       "      <td>en</td>\n",
       "      <td>Father of the Bride Part II</td>\n",
       "      <td>Just when George Banks has recovered from his ...</td>\n",
       "      <td>...</td>\n",
       "      <td>76578911.0</td>\n",
       "      <td>106.0</td>\n",
       "      <td>[{'iso_639_1': 'en', 'name': 'English'}]</td>\n",
       "      <td>Released</td>\n",
       "      <td>Just When His World Is Back To Normal... He's ...</td>\n",
       "      <td>Father of the Bride Part II</td>\n",
       "      <td>False</td>\n",
       "      <td>5.7</td>\n",
       "      <td>173.0</td>\n",
       "      <td>5.660700</td>\n",
       "    </tr>\n",
       "    <tr>\n",
       "      <th>5</th>\n",
       "      <td>False</td>\n",
       "      <td>NaN</td>\n",
       "      <td>60000000</td>\n",
       "      <td>[{'id': 28, 'name': 'Action'}, {'id': 80, 'nam...</td>\n",
       "      <td>NaN</td>\n",
       "      <td>949</td>\n",
       "      <td>tt0113277</td>\n",
       "      <td>en</td>\n",
       "      <td>Heat</td>\n",
       "      <td>Obsessive master thief, Neil McCauley leads a ...</td>\n",
       "      <td>...</td>\n",
       "      <td>187436818.0</td>\n",
       "      <td>170.0</td>\n",
       "      <td>[{'iso_639_1': 'en', 'name': 'English'}, {'iso...</td>\n",
       "      <td>Released</td>\n",
       "      <td>A Los Angeles Crime Saga</td>\n",
       "      <td>Heat</td>\n",
       "      <td>False</td>\n",
       "      <td>7.7</td>\n",
       "      <td>1886.0</td>\n",
       "      <td>7.537201</td>\n",
       "    </tr>\n",
       "    <tr>\n",
       "      <th>8</th>\n",
       "      <td>False</td>\n",
       "      <td>NaN</td>\n",
       "      <td>35000000</td>\n",
       "      <td>[{'id': 28, 'name': 'Action'}, {'id': 12, 'nam...</td>\n",
       "      <td>NaN</td>\n",
       "      <td>9091</td>\n",
       "      <td>tt0114576</td>\n",
       "      <td>en</td>\n",
       "      <td>Sudden Death</td>\n",
       "      <td>International action superstar Jean Claude Van...</td>\n",
       "      <td>...</td>\n",
       "      <td>64350171.0</td>\n",
       "      <td>106.0</td>\n",
       "      <td>[{'iso_639_1': 'en', 'name': 'English'}]</td>\n",
       "      <td>Released</td>\n",
       "      <td>Terror goes into overtime.</td>\n",
       "      <td>Sudden Death</td>\n",
       "      <td>False</td>\n",
       "      <td>5.5</td>\n",
       "      <td>174.0</td>\n",
       "      <td>5.556626</td>\n",
       "    </tr>\n",
       "  </tbody>\n",
       "</table>\n",
       "<p>5 rows × 25 columns</p>\n",
       "</div>"
      ],
      "text/plain": [
       "   adult                              belongs_to_collection    budget  \\\n",
       "0  False  {'id': 10194, 'name': 'Toy Story Collection', ...  30000000   \n",
       "1  False                                                NaN  65000000   \n",
       "4  False  {'id': 96871, 'name': 'Father of the Bride Col...         0   \n",
       "5  False                                                NaN  60000000   \n",
       "8  False                                                NaN  35000000   \n",
       "\n",
       "                                              genres  \\\n",
       "0  [{'id': 16, 'name': 'Animation'}, {'id': 35, '...   \n",
       "1  [{'id': 12, 'name': 'Adventure'}, {'id': 14, '...   \n",
       "4                     [{'id': 35, 'name': 'Comedy'}]   \n",
       "5  [{'id': 28, 'name': 'Action'}, {'id': 80, 'nam...   \n",
       "8  [{'id': 28, 'name': 'Action'}, {'id': 12, 'nam...   \n",
       "\n",
       "                               homepage     id    imdb_id original_language  \\\n",
       "0  http://toystory.disney.com/toy-story    862  tt0114709                en   \n",
       "1                                   NaN   8844  tt0113497                en   \n",
       "4                                   NaN  11862  tt0113041                en   \n",
       "5                                   NaN    949  tt0113277                en   \n",
       "8                                   NaN   9091  tt0114576                en   \n",
       "\n",
       "                original_title  \\\n",
       "0                    Toy Story   \n",
       "1                      Jumanji   \n",
       "4  Father of the Bride Part II   \n",
       "5                         Heat   \n",
       "8                 Sudden Death   \n",
       "\n",
       "                                            overview  ...      revenue  \\\n",
       "0  Led by Woody, Andy's toys live happily in his ...  ...  373554033.0   \n",
       "1  When siblings Judy and Peter discover an encha...  ...  262797249.0   \n",
       "4  Just when George Banks has recovered from his ...  ...   76578911.0   \n",
       "5  Obsessive master thief, Neil McCauley leads a ...  ...  187436818.0   \n",
       "8  International action superstar Jean Claude Van...  ...   64350171.0   \n",
       "\n",
       "  runtime                                   spoken_languages    status  \\\n",
       "0    81.0           [{'iso_639_1': 'en', 'name': 'English'}]  Released   \n",
       "1   104.0  [{'iso_639_1': 'en', 'name': 'English'}, {'iso...  Released   \n",
       "4   106.0           [{'iso_639_1': 'en', 'name': 'English'}]  Released   \n",
       "5   170.0  [{'iso_639_1': 'en', 'name': 'English'}, {'iso...  Released   \n",
       "8   106.0           [{'iso_639_1': 'en', 'name': 'English'}]  Released   \n",
       "\n",
       "                                             tagline  \\\n",
       "0                                                NaN   \n",
       "1          Roll the dice and unleash the excitement!   \n",
       "4  Just When His World Is Back To Normal... He's ...   \n",
       "5                           A Los Angeles Crime Saga   \n",
       "8                         Terror goes into overtime.   \n",
       "\n",
       "                         title  video vote_average vote_count     score  \n",
       "0                    Toy Story  False          7.7     5415.0  7.640253  \n",
       "1                      Jumanji  False          6.9     2413.0  6.820293  \n",
       "4  Father of the Bride Part II  False          5.7      173.0  5.660700  \n",
       "5                         Heat  False          7.7     1886.0  7.537201  \n",
       "8                 Sudden Death  False          5.5      174.0  5.556626  \n",
       "\n",
       "[5 rows x 25 columns]"
      ]
     },
     "execution_count": 12,
     "metadata": {},
     "output_type": "execute_result"
    }
   ],
   "source": [
    "q_movies['score']=q_movies.apply(weighted_rating, axis = 1)\n",
    "q_movies.head()"
   ]
  },
  {
   "cell_type": "code",
   "execution_count": 13,
   "id": "5a76000d",
   "metadata": {},
   "outputs": [],
   "source": [
    "q_movies_selected = ['budget','genres','title','popularity','production_countries','revenue','runtime','original_language','score']"
   ]
  },
  {
   "cell_type": "code",
   "execution_count": 14,
   "id": "2417a666",
   "metadata": {},
   "outputs": [],
   "source": [
    "df_movie = q_movies[q_movies_selected]"
   ]
  },
  {
   "cell_type": "code",
   "execution_count": 15,
   "id": "0489d9e0",
   "metadata": {},
   "outputs": [
    {
     "data": {
      "text/html": [
       "<div>\n",
       "<style scoped>\n",
       "    .dataframe tbody tr th:only-of-type {\n",
       "        vertical-align: middle;\n",
       "    }\n",
       "\n",
       "    .dataframe tbody tr th {\n",
       "        vertical-align: top;\n",
       "    }\n",
       "\n",
       "    .dataframe thead th {\n",
       "        text-align: right;\n",
       "    }\n",
       "</style>\n",
       "<table border=\"1\" class=\"dataframe\">\n",
       "  <thead>\n",
       "    <tr style=\"text-align: right;\">\n",
       "      <th></th>\n",
       "      <th>budget</th>\n",
       "      <th>genres</th>\n",
       "      <th>title</th>\n",
       "      <th>popularity</th>\n",
       "      <th>production_countries</th>\n",
       "      <th>revenue</th>\n",
       "      <th>runtime</th>\n",
       "      <th>original_language</th>\n",
       "      <th>score</th>\n",
       "    </tr>\n",
       "  </thead>\n",
       "  <tbody>\n",
       "    <tr>\n",
       "      <th>0</th>\n",
       "      <td>30000000</td>\n",
       "      <td>[{'id': 16, 'name': 'Animation'}, {'id': 35, '...</td>\n",
       "      <td>Toy Story</td>\n",
       "      <td>21.946943</td>\n",
       "      <td>[{'iso_3166_1': 'US', 'name': 'United States o...</td>\n",
       "      <td>373554033.0</td>\n",
       "      <td>81.0</td>\n",
       "      <td>en</td>\n",
       "      <td>7.640253</td>\n",
       "    </tr>\n",
       "    <tr>\n",
       "      <th>1</th>\n",
       "      <td>65000000</td>\n",
       "      <td>[{'id': 12, 'name': 'Adventure'}, {'id': 14, '...</td>\n",
       "      <td>Jumanji</td>\n",
       "      <td>17.015539</td>\n",
       "      <td>[{'iso_3166_1': 'US', 'name': 'United States o...</td>\n",
       "      <td>262797249.0</td>\n",
       "      <td>104.0</td>\n",
       "      <td>en</td>\n",
       "      <td>6.820293</td>\n",
       "    </tr>\n",
       "    <tr>\n",
       "      <th>4</th>\n",
       "      <td>0</td>\n",
       "      <td>[{'id': 35, 'name': 'Comedy'}]</td>\n",
       "      <td>Father of the Bride Part II</td>\n",
       "      <td>8.387519</td>\n",
       "      <td>[{'iso_3166_1': 'US', 'name': 'United States o...</td>\n",
       "      <td>76578911.0</td>\n",
       "      <td>106.0</td>\n",
       "      <td>en</td>\n",
       "      <td>5.660700</td>\n",
       "    </tr>\n",
       "    <tr>\n",
       "      <th>5</th>\n",
       "      <td>60000000</td>\n",
       "      <td>[{'id': 28, 'name': 'Action'}, {'id': 80, 'nam...</td>\n",
       "      <td>Heat</td>\n",
       "      <td>17.924927</td>\n",
       "      <td>[{'iso_3166_1': 'US', 'name': 'United States o...</td>\n",
       "      <td>187436818.0</td>\n",
       "      <td>170.0</td>\n",
       "      <td>en</td>\n",
       "      <td>7.537201</td>\n",
       "    </tr>\n",
       "    <tr>\n",
       "      <th>8</th>\n",
       "      <td>35000000</td>\n",
       "      <td>[{'id': 28, 'name': 'Action'}, {'id': 12, 'nam...</td>\n",
       "      <td>Sudden Death</td>\n",
       "      <td>5.23158</td>\n",
       "      <td>[{'iso_3166_1': 'US', 'name': 'United States o...</td>\n",
       "      <td>64350171.0</td>\n",
       "      <td>106.0</td>\n",
       "      <td>en</td>\n",
       "      <td>5.556626</td>\n",
       "    </tr>\n",
       "  </tbody>\n",
       "</table>\n",
       "</div>"
      ],
      "text/plain": [
       "     budget                                             genres  \\\n",
       "0  30000000  [{'id': 16, 'name': 'Animation'}, {'id': 35, '...   \n",
       "1  65000000  [{'id': 12, 'name': 'Adventure'}, {'id': 14, '...   \n",
       "4         0                     [{'id': 35, 'name': 'Comedy'}]   \n",
       "5  60000000  [{'id': 28, 'name': 'Action'}, {'id': 80, 'nam...   \n",
       "8  35000000  [{'id': 28, 'name': 'Action'}, {'id': 12, 'nam...   \n",
       "\n",
       "                         title popularity  \\\n",
       "0                    Toy Story  21.946943   \n",
       "1                      Jumanji  17.015539   \n",
       "4  Father of the Bride Part II   8.387519   \n",
       "5                         Heat  17.924927   \n",
       "8                 Sudden Death    5.23158   \n",
       "\n",
       "                                production_countries      revenue  runtime  \\\n",
       "0  [{'iso_3166_1': 'US', 'name': 'United States o...  373554033.0     81.0   \n",
       "1  [{'iso_3166_1': 'US', 'name': 'United States o...  262797249.0    104.0   \n",
       "4  [{'iso_3166_1': 'US', 'name': 'United States o...   76578911.0    106.0   \n",
       "5  [{'iso_3166_1': 'US', 'name': 'United States o...  187436818.0    170.0   \n",
       "8  [{'iso_3166_1': 'US', 'name': 'United States o...   64350171.0    106.0   \n",
       "\n",
       "  original_language     score  \n",
       "0                en  7.640253  \n",
       "1                en  6.820293  \n",
       "4                en  5.660700  \n",
       "5                en  7.537201  \n",
       "8                en  5.556626  "
      ]
     },
     "execution_count": 15,
     "metadata": {},
     "output_type": "execute_result"
    }
   ],
   "source": [
    "df_movie.head()"
   ]
  },
  {
   "cell_type": "code",
   "execution_count": 16,
   "id": "9a0112f1",
   "metadata": {},
   "outputs": [
    {
     "data": {
      "text/plain": [
       "\"[{'id': 16, 'name': 'Animation'}, {'id': 35, 'name': 'Comedy'}, {'id': 10751, 'name': 'Family'}]\""
      ]
     },
     "execution_count": 16,
     "metadata": {},
     "output_type": "execute_result"
    }
   ],
   "source": [
    "df_movie['genres'].iloc[0]"
   ]
  },
  {
   "cell_type": "code",
   "execution_count": 17,
   "id": "b078d57b",
   "metadata": {},
   "outputs": [
    {
     "data": {
      "text/plain": [
       "\"[{'iso_3166_1': 'US', 'name': 'United States of America'}]\""
      ]
     },
     "execution_count": 17,
     "metadata": {},
     "output_type": "execute_result"
    }
   ],
   "source": [
    "df_movie['production_countries'].iloc[0]"
   ]
  },
  {
   "cell_type": "code",
   "execution_count": 18,
   "id": "14ef97f8",
   "metadata": {},
   "outputs": [
    {
     "data": {
      "text/plain": [
       "'en'"
      ]
     },
     "execution_count": 18,
     "metadata": {},
     "output_type": "execute_result"
    }
   ],
   "source": [
    "df_movie['original_language'].iloc[1]"
   ]
  },
  {
   "cell_type": "code",
   "execution_count": 19,
   "id": "c73ee06a",
   "metadata": {},
   "outputs": [
    {
     "name": "stderr",
     "output_type": "stream",
     "text": [
      "/Users/preethi/opt/anaconda3/lib/python3.9/site-packages/pandas/core/frame.py:4906: SettingWithCopyWarning: \n",
      "A value is trying to be set on a copy of a slice from a DataFrame\n",
      "\n",
      "See the caveats in the documentation: https://pandas.pydata.org/pandas-docs/stable/user_guide/indexing.html#returning-a-view-versus-a-copy\n",
      "  return super().drop(\n"
     ]
    }
   ],
   "source": [
    "df_movie.drop(df_movie[df_movie['genres'] == False].index, inplace=True)"
   ]
  },
  {
   "cell_type": "code",
   "execution_count": 20,
   "id": "ec6a7b6c",
   "metadata": {},
   "outputs": [
    {
     "data": {
      "text/plain": [
       "budget                  0\n",
       "genres                  0\n",
       "title                   0\n",
       "popularity              0\n",
       "production_countries    0\n",
       "revenue                 0\n",
       "runtime                 0\n",
       "original_language       0\n",
       "score                   0\n",
       "dtype: int64"
      ]
     },
     "execution_count": 20,
     "metadata": {},
     "output_type": "execute_result"
    }
   ],
   "source": [
    "df_movie.isna().sum()"
   ]
  },
  {
   "cell_type": "code",
   "execution_count": 21,
   "id": "4ac31218",
   "metadata": {},
   "outputs": [],
   "source": [
    "def json_to_arr(cell, wanted = \"name\"): \n",
    "    cell = literal_eval(cell)\n",
    "    if cell == [] or (isinstance(cell, float) and cell.isna()):\n",
    "        return np.nan\n",
    "    result = []\n",
    "    counter = 0\n",
    "    for element in cell:\n",
    "        if counter < 3:\n",
    "            result.append(element[wanted])\n",
    "            counter += 1\n",
    "        else:\n",
    "            break\n",
    "    return result[:3]"
   ]
  },
  {
   "cell_type": "code",
   "execution_count": 22,
   "id": "443cd11a",
   "metadata": {},
   "outputs": [
    {
     "name": "stderr",
     "output_type": "stream",
     "text": [
      "/Users/preethi/opt/anaconda3/lib/python3.9/site-packages/pandas/core/frame.py:3641: SettingWithCopyWarning: \n",
      "A value is trying to be set on a copy of a slice from a DataFrame.\n",
      "Try using .loc[row_indexer,col_indexer] = value instead\n",
      "\n",
      "See the caveats in the documentation: https://pandas.pydata.org/pandas-docs/stable/user_guide/indexing.html#returning-a-view-versus-a-copy\n",
      "  self[k1] = value[k2]\n"
     ]
    }
   ],
   "source": [
    "df_movie[['genres']] = df_movie[['genres']].applymap(json_to_arr)\n"
   ]
  },
  {
   "cell_type": "code",
   "execution_count": 23,
   "id": "6107f5ea",
   "metadata": {},
   "outputs": [],
   "source": [
    "df_movie[['production_countries']] = df_movie[['production_countries']].applymap(lambda row: \n",
    "                                                                     json_to_arr(row,\"iso_3166_1\"))"
   ]
  },
  {
   "cell_type": "code",
   "execution_count": 24,
   "id": "a3b8e168",
   "metadata": {},
   "outputs": [
    {
     "data": {
      "text/plain": [
       "['Animation', 'Comedy', 'Family']"
      ]
     },
     "execution_count": 24,
     "metadata": {},
     "output_type": "execute_result"
    }
   ],
   "source": [
    "df_movie['genres'].iloc[0]"
   ]
  },
  {
   "cell_type": "code",
   "execution_count": 25,
   "id": "fada1158",
   "metadata": {},
   "outputs": [
    {
     "data": {
      "text/plain": [
       "['US']"
      ]
     },
     "execution_count": 25,
     "metadata": {},
     "output_type": "execute_result"
    }
   ],
   "source": [
    "df_movie['production_countries'].iloc[0]"
   ]
  },
  {
   "cell_type": "code",
   "execution_count": 26,
   "id": "05f68997",
   "metadata": {},
   "outputs": [
    {
     "name": "stderr",
     "output_type": "stream",
     "text": [
      "/var/folders/rp/nxsrxhh5777bbfqjkd5scn3m0000gp/T/ipykernel_67915/236759979.py:1: SettingWithCopyWarning: \n",
      "A value is trying to be set on a copy of a slice from a DataFrame.\n",
      "Try using .loc[row_indexer,col_indexer] = value instead\n",
      "\n",
      "See the caveats in the documentation: https://pandas.pydata.org/pandas-docs/stable/user_guide/indexing.html#returning-a-view-versus-a-copy\n",
      "  df_movie['popularity'] = df_movie['popularity'].astype(float)\n"
     ]
    }
   ],
   "source": [
    "df_movie['popularity'] = df_movie['popularity'].astype(float)\n"
   ]
  },
  {
   "cell_type": "code",
   "execution_count": 27,
   "id": "3c5edcc8",
   "metadata": {},
   "outputs": [
    {
     "name": "stderr",
     "output_type": "stream",
     "text": [
      "/var/folders/rp/nxsrxhh5777bbfqjkd5scn3m0000gp/T/ipykernel_67915/400669815.py:1: SettingWithCopyWarning: \n",
      "A value is trying to be set on a copy of a slice from a DataFrame.\n",
      "Try using .loc[row_indexer,col_indexer] = value instead\n",
      "\n",
      "See the caveats in the documentation: https://pandas.pydata.org/pandas-docs/stable/user_guide/indexing.html#returning-a-view-versus-a-copy\n",
      "  df_movie['budget'] = df_movie['budget'].astype(float)\n"
     ]
    }
   ],
   "source": [
    "df_movie['budget'] = df_movie['budget'].astype(float)"
   ]
  },
  {
   "cell_type": "code",
   "execution_count": 28,
   "id": "8586c1d3",
   "metadata": {},
   "outputs": [
    {
     "name": "stdout",
     "output_type": "stream",
     "text": [
      "<class 'pandas.core.frame.DataFrame'>\n",
      "Int64Index: 4555 entries, 0 to 45343\n",
      "Data columns (total 9 columns):\n",
      " #   Column                Non-Null Count  Dtype  \n",
      "---  ------                --------------  -----  \n",
      " 0   budget                4555 non-null   float64\n",
      " 1   genres                4554 non-null   object \n",
      " 2   title                 4555 non-null   object \n",
      " 3   popularity            4555 non-null   float64\n",
      " 4   production_countries  4551 non-null   object \n",
      " 5   revenue               4555 non-null   float64\n",
      " 6   runtime               4555 non-null   float64\n",
      " 7   original_language     4555 non-null   object \n",
      " 8   score                 4555 non-null   float64\n",
      "dtypes: float64(5), object(4)\n",
      "memory usage: 484.9+ KB\n"
     ]
    }
   ],
   "source": [
    "df_movie.info()"
   ]
  },
  {
   "cell_type": "code",
   "execution_count": 29,
   "id": "c8ba181e",
   "metadata": {},
   "outputs": [
    {
     "name": "stderr",
     "output_type": "stream",
     "text": [
      "/var/folders/rp/nxsrxhh5777bbfqjkd5scn3m0000gp/T/ipykernel_67915/2865516129.py:1: SettingWithCopyWarning: \n",
      "A value is trying to be set on a copy of a slice from a DataFrame.\n",
      "Try using .loc[row_indexer,col_indexer] = value instead\n",
      "\n",
      "See the caveats in the documentation: https://pandas.pydata.org/pandas-docs/stable/user_guide/indexing.html#returning-a-view-versus-a-copy\n",
      "  df_movie['profit'] = df_movie['revenue']-df_movie['budget']\n"
     ]
    }
   ],
   "source": [
    "df_movie['profit'] = df_movie['revenue']-df_movie['budget']\n"
   ]
  },
  {
   "cell_type": "code",
   "execution_count": 30,
   "id": "016b52fc",
   "metadata": {},
   "outputs": [
    {
     "name": "stdout",
     "output_type": "stream",
     "text": [
      "<class 'pandas.core.frame.DataFrame'>\n",
      "Int64Index: 4555 entries, 0 to 45343\n",
      "Data columns (total 10 columns):\n",
      " #   Column                Non-Null Count  Dtype  \n",
      "---  ------                --------------  -----  \n",
      " 0   budget                4555 non-null   float64\n",
      " 1   genres                4554 non-null   object \n",
      " 2   title                 4555 non-null   object \n",
      " 3   popularity            4555 non-null   float64\n",
      " 4   production_countries  4551 non-null   object \n",
      " 5   revenue               4555 non-null   float64\n",
      " 6   runtime               4555 non-null   float64\n",
      " 7   original_language     4555 non-null   object \n",
      " 8   score                 4555 non-null   float64\n",
      " 9   profit                4555 non-null   float64\n",
      "dtypes: float64(6), object(4)\n",
      "memory usage: 520.5+ KB\n"
     ]
    }
   ],
   "source": [
    "df_movie.info()"
   ]
  },
  {
   "cell_type": "code",
   "execution_count": 32,
   "id": "f7386daf",
   "metadata": {},
   "outputs": [],
   "source": [
    "df_movie.to_csv('df_movie_master.csv', index = False)"
   ]
  },
  {
   "cell_type": "code",
   "execution_count": null,
   "id": "5e75d183",
   "metadata": {},
   "outputs": [],
   "source": []
  },
  {
   "cell_type": "markdown",
   "id": "2c0a4f00",
   "metadata": {},
   "source": [
    "## Exploratory analysis"
   ]
  },
  {
   "cell_type": "markdown",
   "id": "37e4c794",
   "metadata": {},
   "source": [
    "### 1. Top 10 Movies based on Popularity"
   ]
  },
  {
   "cell_type": "code",
   "execution_count": 164,
   "id": "e636eeb8",
   "metadata": {
    "scrolled": false
   },
   "outputs": [
    {
     "data": {
      "text/html": [
       "<div>\n",
       "<style scoped>\n",
       "    .dataframe tbody tr th:only-of-type {\n",
       "        vertical-align: middle;\n",
       "    }\n",
       "\n",
       "    .dataframe tbody tr th {\n",
       "        vertical-align: top;\n",
       "    }\n",
       "\n",
       "    .dataframe thead th {\n",
       "        text-align: right;\n",
       "    }\n",
       "</style>\n",
       "<table border=\"1\" class=\"dataframe\">\n",
       "  <thead>\n",
       "    <tr style=\"text-align: right;\">\n",
       "      <th></th>\n",
       "      <th>budget</th>\n",
       "      <th>genres</th>\n",
       "      <th>title</th>\n",
       "      <th>popularity</th>\n",
       "      <th>production_countries</th>\n",
       "      <th>revenue</th>\n",
       "      <th>runtime</th>\n",
       "      <th>original_language</th>\n",
       "      <th>score</th>\n",
       "      <th>profit</th>\n",
       "    </tr>\n",
       "  </thead>\n",
       "  <tbody>\n",
       "    <tr>\n",
       "      <th>30700</th>\n",
       "      <td>74000000.0</td>\n",
       "      <td>[Family, Animation, Adventure]</td>\n",
       "      <td>Minions</td>\n",
       "      <td>547.488298</td>\n",
       "      <td>[US]</td>\n",
       "      <td>1.156731e+09</td>\n",
       "      <td>91.0</td>\n",
       "      <td>en</td>\n",
       "      <td>6.374415</td>\n",
       "      <td>1.082731e+09</td>\n",
       "    </tr>\n",
       "    <tr>\n",
       "      <th>33356</th>\n",
       "      <td>149000000.0</td>\n",
       "      <td>[Action, Adventure, Fantasy]</td>\n",
       "      <td>Wonder Woman</td>\n",
       "      <td>294.337037</td>\n",
       "      <td>[US]</td>\n",
       "      <td>8.205804e+08</td>\n",
       "      <td>141.0</td>\n",
       "      <td>en</td>\n",
       "      <td>7.151189</td>\n",
       "      <td>6.715804e+08</td>\n",
       "    </tr>\n",
       "    <tr>\n",
       "      <th>42222</th>\n",
       "      <td>160000000.0</td>\n",
       "      <td>[Family, Fantasy, Romance]</td>\n",
       "      <td>Beauty and the Beast</td>\n",
       "      <td>287.253654</td>\n",
       "      <td>[GB, US]</td>\n",
       "      <td>1.262886e+09</td>\n",
       "      <td>129.0</td>\n",
       "      <td>en</td>\n",
       "      <td>6.766769</td>\n",
       "      <td>1.102886e+09</td>\n",
       "    </tr>\n",
       "    <tr>\n",
       "      <th>43644</th>\n",
       "      <td>34000000.0</td>\n",
       "      <td>[Action, Crime]</td>\n",
       "      <td>Baby Driver</td>\n",
       "      <td>228.032744</td>\n",
       "      <td>[GB, US]</td>\n",
       "      <td>2.245113e+08</td>\n",
       "      <td>113.0</td>\n",
       "      <td>en</td>\n",
       "      <td>7.087166</td>\n",
       "      <td>1.905113e+08</td>\n",
       "    </tr>\n",
       "    <tr>\n",
       "      <th>24455</th>\n",
       "      <td>165000000.0</td>\n",
       "      <td>[Adventure, Family, Animation]</td>\n",
       "      <td>Big Hero 6</td>\n",
       "      <td>213.849907</td>\n",
       "      <td>[US]</td>\n",
       "      <td>6.521054e+08</td>\n",
       "      <td>102.0</td>\n",
       "      <td>en</td>\n",
       "      <td>7.745870</td>\n",
       "      <td>4.871054e+08</td>\n",
       "    </tr>\n",
       "    <tr>\n",
       "      <th>26564</th>\n",
       "      <td>58000000.0</td>\n",
       "      <td>[Action, Adventure, Comedy]</td>\n",
       "      <td>Deadpool</td>\n",
       "      <td>187.860492</td>\n",
       "      <td>[US]</td>\n",
       "      <td>7.831130e+08</td>\n",
       "      <td>108.0</td>\n",
       "      <td>en</td>\n",
       "      <td>7.375432</td>\n",
       "      <td>7.251130e+08</td>\n",
       "    </tr>\n",
       "    <tr>\n",
       "      <th>26566</th>\n",
       "      <td>200000000.0</td>\n",
       "      <td>[Action, Adventure, Comedy]</td>\n",
       "      <td>Guardians of the Galaxy Vol. 2</td>\n",
       "      <td>185.330992</td>\n",
       "      <td>[US]</td>\n",
       "      <td>8.634161e+08</td>\n",
       "      <td>137.0</td>\n",
       "      <td>en</td>\n",
       "      <td>7.536810</td>\n",
       "      <td>6.634161e+08</td>\n",
       "    </tr>\n",
       "    <tr>\n",
       "      <th>14551</th>\n",
       "      <td>237000000.0</td>\n",
       "      <td>[Action, Adventure, Fantasy]</td>\n",
       "      <td>Avatar</td>\n",
       "      <td>185.070892</td>\n",
       "      <td>[US, GB]</td>\n",
       "      <td>2.787965e+09</td>\n",
       "      <td>162.0</td>\n",
       "      <td>en</td>\n",
       "      <td>7.179380</td>\n",
       "      <td>2.550965e+09</td>\n",
       "    </tr>\n",
       "    <tr>\n",
       "      <th>24351</th>\n",
       "      <td>20000000.0</td>\n",
       "      <td>[Action, Thriller]</td>\n",
       "      <td>John Wick</td>\n",
       "      <td>183.870374</td>\n",
       "      <td>[CA, CN, US]</td>\n",
       "      <td>8.876166e+07</td>\n",
       "      <td>101.0</td>\n",
       "      <td>en</td>\n",
       "      <td>6.960932</td>\n",
       "      <td>6.876166e+07</td>\n",
       "    </tr>\n",
       "    <tr>\n",
       "      <th>23675</th>\n",
       "      <td>61000000.0</td>\n",
       "      <td>[Mystery, Thriller, Drama]</td>\n",
       "      <td>Gone Girl</td>\n",
       "      <td>154.801009</td>\n",
       "      <td>[US]</td>\n",
       "      <td>3.693304e+08</td>\n",
       "      <td>145.0</td>\n",
       "      <td>en</td>\n",
       "      <td>7.840953</td>\n",
       "      <td>3.083304e+08</td>\n",
       "    </tr>\n",
       "  </tbody>\n",
       "</table>\n",
       "</div>"
      ],
      "text/plain": [
       "            budget                          genres  \\\n",
       "30700   74000000.0  [Family, Animation, Adventure]   \n",
       "33356  149000000.0    [Action, Adventure, Fantasy]   \n",
       "42222  160000000.0      [Family, Fantasy, Romance]   \n",
       "43644   34000000.0                 [Action, Crime]   \n",
       "24455  165000000.0  [Adventure, Family, Animation]   \n",
       "26564   58000000.0     [Action, Adventure, Comedy]   \n",
       "26566  200000000.0     [Action, Adventure, Comedy]   \n",
       "14551  237000000.0    [Action, Adventure, Fantasy]   \n",
       "24351   20000000.0              [Action, Thriller]   \n",
       "23675   61000000.0      [Mystery, Thriller, Drama]   \n",
       "\n",
       "                                title  popularity production_countries  \\\n",
       "30700                         Minions  547.488298                 [US]   \n",
       "33356                    Wonder Woman  294.337037                 [US]   \n",
       "42222            Beauty and the Beast  287.253654             [GB, US]   \n",
       "43644                     Baby Driver  228.032744             [GB, US]   \n",
       "24455                      Big Hero 6  213.849907                 [US]   \n",
       "26564                        Deadpool  187.860492                 [US]   \n",
       "26566  Guardians of the Galaxy Vol. 2  185.330992                 [US]   \n",
       "14551                          Avatar  185.070892             [US, GB]   \n",
       "24351                       John Wick  183.870374         [CA, CN, US]   \n",
       "23675                       Gone Girl  154.801009                 [US]   \n",
       "\n",
       "            revenue  runtime original_language     score        profit  \n",
       "30700  1.156731e+09     91.0                en  6.374415  1.082731e+09  \n",
       "33356  8.205804e+08    141.0                en  7.151189  6.715804e+08  \n",
       "42222  1.262886e+09    129.0                en  6.766769  1.102886e+09  \n",
       "43644  2.245113e+08    113.0                en  7.087166  1.905113e+08  \n",
       "24455  6.521054e+08    102.0                en  7.745870  4.871054e+08  \n",
       "26564  7.831130e+08    108.0                en  7.375432  7.251130e+08  \n",
       "26566  8.634161e+08    137.0                en  7.536810  6.634161e+08  \n",
       "14551  2.787965e+09    162.0                en  7.179380  2.550965e+09  \n",
       "24351  8.876166e+07    101.0                en  6.960932  6.876166e+07  \n",
       "23675  3.693304e+08    145.0                en  7.840953  3.083304e+08  "
      ]
     },
     "execution_count": 164,
     "metadata": {},
     "output_type": "execute_result"
    }
   ],
   "source": [
    "sort_value = df_movie.sort_values(by=\"popularity\", ascending=False)\n",
    "sort_value.head(10)"
   ]
  },
  {
   "cell_type": "code",
   "execution_count": 166,
   "id": "87421b35",
   "metadata": {},
   "outputs": [
    {
     "name": "stderr",
     "output_type": "stream",
     "text": [
      "/Users/preethi/opt/anaconda3/lib/python3.9/site-packages/seaborn/_decorators.py:36: FutureWarning: Pass the following variables as keyword args: x, y. From version 0.12, the only valid positional argument will be `data`, and passing other arguments without an explicit keyword will result in an error or misinterpretation.\n",
      "  warnings.warn(\n"
     ]
    },
    {
     "data": {
      "image/png": "[encoded data removed]",
      "text/plain": [
       "<Figure size 720x504 with 1 Axes>"
      ]
     },
     "metadata": {},
     "output_type": "display_data"
    }
   ],
   "source": [
    "sb.set(rc={'figure.figsize':(10,7)}, font_scale=1.4)\n",
    "\n",
    "\n",
    "ax = sb.barplot(\n",
    "     \n",
    "     df_movie.sort_values(by=\"popularity\", ascending=False).head(10).popularity,\n",
    "df_movie.sort_values(by=\"popularity\", ascending=False).head(10).title )\n",
    "\n",
    "\n",
    "#rotate x-axis' text\n",
    "for item in ax.get_xticklabels():\n",
    "    item.set_rotation(90)\n",
    "\n",
    "ax.set(xlabel='movie titles', ylabel='popularity', title = 'Top 10 movies based on their popularity')\n",
    "plt.show()"
   ]
  },
  {
   "cell_type": "markdown",
   "id": "80ba48a9",
   "metadata": {},
   "source": [
    "### 2. Top 10 movies based on IMDb score"
   ]
  },
  {
   "cell_type": "code",
   "execution_count": 104,
   "id": "63647f53",
   "metadata": {},
   "outputs": [
    {
     "data": {
      "text/html": [
       "<div>\n",
       "<style scoped>\n",
       "    .dataframe tbody tr th:only-of-type {\n",
       "        vertical-align: middle;\n",
       "    }\n",
       "\n",
       "    .dataframe tbody tr th {\n",
       "        vertical-align: top;\n",
       "    }\n",
       "\n",
       "    .dataframe thead th {\n",
       "        text-align: right;\n",
       "    }\n",
       "</style>\n",
       "<table border=\"1\" class=\"dataframe\">\n",
       "  <thead>\n",
       "    <tr style=\"text-align: right;\">\n",
       "      <th></th>\n",
       "      <th>budget</th>\n",
       "      <th>genres</th>\n",
       "      <th>title</th>\n",
       "      <th>popularity</th>\n",
       "      <th>production_countries</th>\n",
       "      <th>revenue</th>\n",
       "      <th>runtime</th>\n",
       "      <th>original_language</th>\n",
       "      <th>score</th>\n",
       "    </tr>\n",
       "  </thead>\n",
       "  <tbody>\n",
       "    <tr>\n",
       "      <th>314</th>\n",
       "      <td>25000000.0</td>\n",
       "      <td>[Drama, Crime]</td>\n",
       "      <td>The Shawshank Redemption</td>\n",
       "      <td>51.645403</td>\n",
       "      <td>[US]</td>\n",
       "      <td>2.834147e+07</td>\n",
       "      <td>142.0</td>\n",
       "      <td>en</td>\n",
       "      <td>8.445869</td>\n",
       "    </tr>\n",
       "    <tr>\n",
       "      <th>834</th>\n",
       "      <td>6000000.0</td>\n",
       "      <td>[Drama, Crime]</td>\n",
       "      <td>The Godfather</td>\n",
       "      <td>41.109264</td>\n",
       "      <td>[US]</td>\n",
       "      <td>2.450664e+08</td>\n",
       "      <td>175.0</td>\n",
       "      <td>en</td>\n",
       "      <td>8.425439</td>\n",
       "    </tr>\n",
       "    <tr>\n",
       "      <th>10309</th>\n",
       "      <td>13200000.0</td>\n",
       "      <td>[Comedy, Drama, Romance]</td>\n",
       "      <td>Dilwale Dulhania Le Jayenge</td>\n",
       "      <td>34.457024</td>\n",
       "      <td>[IN]</td>\n",
       "      <td>1.000000e+08</td>\n",
       "      <td>190.0</td>\n",
       "      <td>hi</td>\n",
       "      <td>8.421453</td>\n",
       "    </tr>\n",
       "    <tr>\n",
       "      <th>12481</th>\n",
       "      <td>185000000.0</td>\n",
       "      <td>[Drama, Action, Crime]</td>\n",
       "      <td>The Dark Knight</td>\n",
       "      <td>123.167259</td>\n",
       "      <td>[GB, US]</td>\n",
       "      <td>1.004558e+09</td>\n",
       "      <td>152.0</td>\n",
       "      <td>en</td>\n",
       "      <td>8.265477</td>\n",
       "    </tr>\n",
       "    <tr>\n",
       "      <th>2843</th>\n",
       "      <td>63000000.0</td>\n",
       "      <td>[Drama]</td>\n",
       "      <td>Fight Club</td>\n",
       "      <td>63.869599</td>\n",
       "      <td>[DE, US]</td>\n",
       "      <td>1.008538e+08</td>\n",
       "      <td>139.0</td>\n",
       "      <td>en</td>\n",
       "      <td>8.256385</td>\n",
       "    </tr>\n",
       "    <tr>\n",
       "      <th>292</th>\n",
       "      <td>8000000.0</td>\n",
       "      <td>[Thriller, Crime]</td>\n",
       "      <td>Pulp Fiction</td>\n",
       "      <td>140.950236</td>\n",
       "      <td>[US]</td>\n",
       "      <td>2.139288e+08</td>\n",
       "      <td>154.0</td>\n",
       "      <td>en</td>\n",
       "      <td>8.251406</td>\n",
       "    </tr>\n",
       "    <tr>\n",
       "      <th>522</th>\n",
       "      <td>22000000.0</td>\n",
       "      <td>[Drama, History, War]</td>\n",
       "      <td>Schindler's List</td>\n",
       "      <td>41.725123</td>\n",
       "      <td>[US]</td>\n",
       "      <td>3.213656e+08</td>\n",
       "      <td>195.0</td>\n",
       "      <td>en</td>\n",
       "      <td>8.206639</td>\n",
       "    </tr>\n",
       "    <tr>\n",
       "      <th>23673</th>\n",
       "      <td>3300000.0</td>\n",
       "      <td>[Drama]</td>\n",
       "      <td>Whiplash</td>\n",
       "      <td>64.299990</td>\n",
       "      <td>[US]</td>\n",
       "      <td>1.309200e+07</td>\n",
       "      <td>105.0</td>\n",
       "      <td>en</td>\n",
       "      <td>8.205404</td>\n",
       "    </tr>\n",
       "    <tr>\n",
       "      <th>5481</th>\n",
       "      <td>15000000.0</td>\n",
       "      <td>[Fantasy, Adventure, Animation]</td>\n",
       "      <td>Spirited Away</td>\n",
       "      <td>41.048867</td>\n",
       "      <td>[JP]</td>\n",
       "      <td>2.749251e+08</td>\n",
       "      <td>125.0</td>\n",
       "      <td>ja</td>\n",
       "      <td>8.196055</td>\n",
       "    </tr>\n",
       "    <tr>\n",
       "      <th>2211</th>\n",
       "      <td>20000000.0</td>\n",
       "      <td>[Comedy, Drama]</td>\n",
       "      <td>Life Is Beautiful</td>\n",
       "      <td>39.394970</td>\n",
       "      <td>[IT]</td>\n",
       "      <td>2.294000e+08</td>\n",
       "      <td>116.0</td>\n",
       "      <td>it</td>\n",
       "      <td>8.187171</td>\n",
       "    </tr>\n",
       "  </tbody>\n",
       "</table>\n",
       "</div>"
      ],
      "text/plain": [
       "            budget                           genres  \\\n",
       "314     25000000.0                   [Drama, Crime]   \n",
       "834      6000000.0                   [Drama, Crime]   \n",
       "10309   13200000.0         [Comedy, Drama, Romance]   \n",
       "12481  185000000.0           [Drama, Action, Crime]   \n",
       "2843    63000000.0                          [Drama]   \n",
       "292      8000000.0                [Thriller, Crime]   \n",
       "522     22000000.0            [Drama, History, War]   \n",
       "23673    3300000.0                          [Drama]   \n",
       "5481    15000000.0  [Fantasy, Adventure, Animation]   \n",
       "2211    20000000.0                  [Comedy, Drama]   \n",
       "\n",
       "                             title  popularity production_countries  \\\n",
       "314       The Shawshank Redemption   51.645403                 [US]   \n",
       "834                  The Godfather   41.109264                 [US]   \n",
       "10309  Dilwale Dulhania Le Jayenge   34.457024                 [IN]   \n",
       "12481              The Dark Knight  123.167259             [GB, US]   \n",
       "2843                    Fight Club   63.869599             [DE, US]   \n",
       "292                   Pulp Fiction  140.950236                 [US]   \n",
       "522               Schindler's List   41.725123                 [US]   \n",
       "23673                     Whiplash   64.299990                 [US]   \n",
       "5481                 Spirited Away   41.048867                 [JP]   \n",
       "2211             Life Is Beautiful   39.394970                 [IT]   \n",
       "\n",
       "            revenue  runtime original_language     score  \n",
       "314    2.834147e+07    142.0                en  8.445869  \n",
       "834    2.450664e+08    175.0                en  8.425439  \n",
       "10309  1.000000e+08    190.0                hi  8.421453  \n",
       "12481  1.004558e+09    152.0                en  8.265477  \n",
       "2843   1.008538e+08    139.0                en  8.256385  \n",
       "292    2.139288e+08    154.0                en  8.251406  \n",
       "522    3.213656e+08    195.0                en  8.206639  \n",
       "23673  1.309200e+07    105.0                en  8.205404  \n",
       "5481   2.749251e+08    125.0                ja  8.196055  \n",
       "2211   2.294000e+08    116.0                it  8.187171  "
      ]
     },
     "execution_count": 104,
     "metadata": {},
     "output_type": "execute_result"
    }
   ],
   "source": [
    "sort_score = df_movie.sort_values(by=\"score\", ascending=False)\n",
    "sort_score.head(10)"
   ]
  },
  {
   "cell_type": "code",
   "execution_count": 171,
   "id": "216ee3c5",
   "metadata": {},
   "outputs": [
    {
     "name": "stderr",
     "output_type": "stream",
     "text": [
      "/Users/preethi/opt/anaconda3/lib/python3.9/site-packages/seaborn/_decorators.py:36: FutureWarning: Pass the following variables as keyword args: x, y. From version 0.12, the only valid positional argument will be `data`, and passing other arguments without an explicit keyword will result in an error or misinterpretation.\n",
      "  warnings.warn(\n"
     ]
    },
    {
     "data": {
      "image/png": "[encoded data removed]",
      "text/plain": [
       "<Figure size 720x504 with 1 Axes>"
      ]
     },
     "metadata": {},
     "output_type": "display_data"
    }
   ],
   "source": [
    "sb.set(rc={'figure.figsize':(10,7)}, font_scale=1.4)\n",
    "\n",
    "base_color = sb.color_palette()[0]\n",
    "ax = sb.barplot(df_movie.sort_values(by=\"score\", ascending=False).head(10).title,\n",
    "      df_movie.sort_values(by=\"score\", ascending=False).head(10).score, color = base_color)\n",
    "    \n",
    "\n",
    "\n",
    "#rotate x-axis' text\n",
    "for item in ax.get_xticklabels():\n",
    "    item.set_rotation(90)\n",
    "\n",
    "ax.set(ylabel='movie titles', xlabel='score', title = 'Top 10 movies based on their IMDb score')\n",
    "plt.show()"
   ]
  },
  {
   "cell_type": "code",
   "execution_count": 106,
   "id": "0a3719cf",
   "metadata": {},
   "outputs": [
    {
     "name": "stderr",
     "output_type": "stream",
     "text": [
      "/var/folders/rp/nxsrxhh5777bbfqjkd5scn3m0000gp/T/ipykernel_27538/3194259910.py:1: SettingWithCopyWarning: \n",
      "A value is trying to be set on a copy of a slice from a DataFrame.\n",
      "Try using .loc[row_indexer,col_indexer] = value instead\n",
      "\n",
      "See the caveats in the documentation: https://pandas.pydata.org/pandas-docs/stable/user_guide/indexing.html#returning-a-view-versus-a-copy\n",
      "  df_movie['profit'] = df_movie['revenue']-df_movie['budget']\n"
     ]
    }
   ],
   "source": [
    "df_movie['profit'] = df_movie['revenue']-df_movie['budget']"
   ]
  },
  {
   "cell_type": "code",
   "execution_count": 107,
   "id": "1df77f5e",
   "metadata": {},
   "outputs": [
    {
     "name": "stdout",
     "output_type": "stream",
     "text": [
      "<class 'pandas.core.frame.DataFrame'>\n",
      "Int64Index: 4555 entries, 0 to 45343\n",
      "Data columns (total 10 columns):\n",
      " #   Column                Non-Null Count  Dtype  \n",
      "---  ------                --------------  -----  \n",
      " 0   budget                4555 non-null   float64\n",
      " 1   genres                4554 non-null   object \n",
      " 2   title                 4555 non-null   object \n",
      " 3   popularity            4555 non-null   float64\n",
      " 4   production_countries  4551 non-null   object \n",
      " 5   revenue               4555 non-null   float64\n",
      " 6   runtime               4555 non-null   float64\n",
      " 7   original_language     4555 non-null   object \n",
      " 8   score                 4555 non-null   float64\n",
      " 9   profit                4555 non-null   float64\n",
      "dtypes: float64(6), object(4)\n",
      "memory usage: 520.5+ KB\n"
     ]
    }
   ],
   "source": [
    "df_movie.info()"
   ]
  },
  {
   "cell_type": "code",
   "execution_count": 108,
   "id": "cdfc862f",
   "metadata": {},
   "outputs": [
    {
     "data": {
      "text/html": [
       "<div>\n",
       "<style scoped>\n",
       "    .dataframe tbody tr th:only-of-type {\n",
       "        vertical-align: middle;\n",
       "    }\n",
       "\n",
       "    .dataframe tbody tr th {\n",
       "        vertical-align: top;\n",
       "    }\n",
       "\n",
       "    .dataframe thead th {\n",
       "        text-align: right;\n",
       "    }\n",
       "</style>\n",
       "<table border=\"1\" class=\"dataframe\">\n",
       "  <thead>\n",
       "    <tr style=\"text-align: right;\">\n",
       "      <th></th>\n",
       "      <th>14551</th>\n",
       "      <th>21175</th>\n",
       "    </tr>\n",
       "  </thead>\n",
       "  <tbody>\n",
       "    <tr>\n",
       "      <th>budget</th>\n",
       "      <td>237000000.0</td>\n",
       "      <td>255000000.0</td>\n",
       "    </tr>\n",
       "    <tr>\n",
       "      <th>genres</th>\n",
       "      <td>[Action, Adventure, Fantasy]</td>\n",
       "      <td>[Action, Adventure, Western]</td>\n",
       "    </tr>\n",
       "    <tr>\n",
       "      <th>title</th>\n",
       "      <td>Avatar</td>\n",
       "      <td>The Lone Ranger</td>\n",
       "    </tr>\n",
       "    <tr>\n",
       "      <th>popularity</th>\n",
       "      <td>185.070892</td>\n",
       "      <td>12.729104</td>\n",
       "    </tr>\n",
       "    <tr>\n",
       "      <th>production_countries</th>\n",
       "      <td>[US, GB]</td>\n",
       "      <td>[US]</td>\n",
       "    </tr>\n",
       "    <tr>\n",
       "      <th>revenue</th>\n",
       "      <td>2787965087.0</td>\n",
       "      <td>89289910.0</td>\n",
       "    </tr>\n",
       "    <tr>\n",
       "      <th>runtime</th>\n",
       "      <td>162.0</td>\n",
       "      <td>149.0</td>\n",
       "    </tr>\n",
       "    <tr>\n",
       "      <th>original_language</th>\n",
       "      <td>en</td>\n",
       "      <td>en</td>\n",
       "    </tr>\n",
       "    <tr>\n",
       "      <th>score</th>\n",
       "      <td>7.17938</td>\n",
       "      <td>5.882115</td>\n",
       "    </tr>\n",
       "    <tr>\n",
       "      <th>profit</th>\n",
       "      <td>2550965087.0</td>\n",
       "      <td>-165710090.0</td>\n",
       "    </tr>\n",
       "  </tbody>\n",
       "</table>\n",
       "</div>"
      ],
      "text/plain": [
       "                                             14551  \\\n",
       "budget                                 237000000.0   \n",
       "genres                [Action, Adventure, Fantasy]   \n",
       "title                                       Avatar   \n",
       "popularity                              185.070892   \n",
       "production_countries                      [US, GB]   \n",
       "revenue                               2787965087.0   \n",
       "runtime                                      162.0   \n",
       "original_language                               en   \n",
       "score                                      7.17938   \n",
       "profit                                2550965087.0   \n",
       "\n",
       "                                             21175  \n",
       "budget                                 255000000.0  \n",
       "genres                [Action, Adventure, Western]  \n",
       "title                              The Lone Ranger  \n",
       "popularity                               12.729104  \n",
       "production_countries                          [US]  \n",
       "revenue                                 89289910.0  \n",
       "runtime                                      149.0  \n",
       "original_language                               en  \n",
       "score                                     5.882115  \n",
       "profit                                -165710090.0  "
      ]
     },
     "execution_count": 108,
     "metadata": {},
     "output_type": "execute_result"
    }
   ],
   "source": [
    "import pprint\n",
    "#defining the function\n",
    "def calculate(column):\n",
    "    #for highest earned profit\n",
    "    high= df_movie[column].idxmax()\n",
    "    high_details=pd.DataFrame(df_movie.loc[high])\n",
    "    \n",
    "    #for lowest earned profit\n",
    "    low= df_movie[column].idxmin()\n",
    "    low_details=pd.DataFrame(df_movie.loc[low])\n",
    "    \n",
    "    #collectin data in one place\n",
    "    info=pd.concat([high_details, low_details], axis=1)\n",
    "    \n",
    "    return info\n",
    "\n",
    "#calling the function\n",
    "calculate('profit')\n",
    "    "
   ]
  },
  {
   "cell_type": "code",
   "execution_count": 109,
   "id": "cd09ba34",
   "metadata": {},
   "outputs": [
    {
     "data": {
      "text/html": [
       "<div>\n",
       "<style scoped>\n",
       "    .dataframe tbody tr th:only-of-type {\n",
       "        vertical-align: middle;\n",
       "    }\n",
       "\n",
       "    .dataframe tbody tr th {\n",
       "        vertical-align: top;\n",
       "    }\n",
       "\n",
       "    .dataframe thead th {\n",
       "        text-align: right;\n",
       "    }\n",
       "</style>\n",
       "<table border=\"1\" class=\"dataframe\">\n",
       "  <thead>\n",
       "    <tr style=\"text-align: right;\">\n",
       "      <th></th>\n",
       "      <th>17124</th>\n",
       "      <th>4</th>\n",
       "    </tr>\n",
       "  </thead>\n",
       "  <tbody>\n",
       "    <tr>\n",
       "      <th>budget</th>\n",
       "      <td>380000000.0</td>\n",
       "      <td>0.0</td>\n",
       "    </tr>\n",
       "    <tr>\n",
       "      <th>genres</th>\n",
       "      <td>[Adventure, Action, Fantasy]</td>\n",
       "      <td>[Comedy]</td>\n",
       "    </tr>\n",
       "    <tr>\n",
       "      <th>title</th>\n",
       "      <td>Pirates of the Caribbean: On Stranger Tides</td>\n",
       "      <td>Father of the Bride Part II</td>\n",
       "    </tr>\n",
       "    <tr>\n",
       "      <th>popularity</th>\n",
       "      <td>27.88772</td>\n",
       "      <td>8.387519</td>\n",
       "    </tr>\n",
       "    <tr>\n",
       "      <th>production_countries</th>\n",
       "      <td>[US]</td>\n",
       "      <td>[US]</td>\n",
       "    </tr>\n",
       "    <tr>\n",
       "      <th>revenue</th>\n",
       "      <td>1045713802.0</td>\n",
       "      <td>76578911.0</td>\n",
       "    </tr>\n",
       "    <tr>\n",
       "      <th>runtime</th>\n",
       "      <td>136.0</td>\n",
       "      <td>106.0</td>\n",
       "    </tr>\n",
       "    <tr>\n",
       "      <th>original_language</th>\n",
       "      <td>en</td>\n",
       "      <td>en</td>\n",
       "    </tr>\n",
       "    <tr>\n",
       "      <th>score</th>\n",
       "      <td>6.376074</td>\n",
       "      <td>5.6607</td>\n",
       "    </tr>\n",
       "    <tr>\n",
       "      <th>profit</th>\n",
       "      <td>665713802.0</td>\n",
       "      <td>76578911.0</td>\n",
       "    </tr>\n",
       "  </tbody>\n",
       "</table>\n",
       "</div>"
      ],
      "text/plain": [
       "                                                            17124  \\\n",
       "budget                                                380000000.0   \n",
       "genres                               [Adventure, Action, Fantasy]   \n",
       "title                 Pirates of the Caribbean: On Stranger Tides   \n",
       "popularity                                               27.88772   \n",
       "production_countries                                         [US]   \n",
       "revenue                                              1045713802.0   \n",
       "runtime                                                     136.0   \n",
       "original_language                                              en   \n",
       "score                                                    6.376074   \n",
       "profit                                                665713802.0   \n",
       "\n",
       "                                            4      \n",
       "budget                                        0.0  \n",
       "genres                                   [Comedy]  \n",
       "title                 Father of the Bride Part II  \n",
       "popularity                               8.387519  \n",
       "production_countries                         [US]  \n",
       "revenue                                76578911.0  \n",
       "runtime                                     106.0  \n",
       "original_language                              en  \n",
       "score                                      5.6607  \n",
       "profit                                 76578911.0  "
      ]
     },
     "execution_count": 109,
     "metadata": {},
     "output_type": "execute_result"
    }
   ],
   "source": [
    "calculate('budget')"
   ]
  },
  {
   "cell_type": "code",
   "execution_count": 110,
   "id": "e22ed128",
   "metadata": {},
   "outputs": [
    {
     "data": {
      "text/html": [
       "<div>\n",
       "<style scoped>\n",
       "    .dataframe tbody tr th:only-of-type {\n",
       "        vertical-align: middle;\n",
       "    }\n",
       "\n",
       "    .dataframe tbody tr th {\n",
       "        vertical-align: top;\n",
       "    }\n",
       "\n",
       "    .dataframe thead th {\n",
       "        text-align: right;\n",
       "    }\n",
       "</style>\n",
       "<table border=\"1\" class=\"dataframe\">\n",
       "  <thead>\n",
       "    <tr style=\"text-align: right;\">\n",
       "      <th></th>\n",
       "      <th>14551</th>\n",
       "      <th>11</th>\n",
       "    </tr>\n",
       "  </thead>\n",
       "  <tbody>\n",
       "    <tr>\n",
       "      <th>budget</th>\n",
       "      <td>237000000.0</td>\n",
       "      <td>0.0</td>\n",
       "    </tr>\n",
       "    <tr>\n",
       "      <th>genres</th>\n",
       "      <td>[Action, Adventure, Fantasy]</td>\n",
       "      <td>[Comedy, Horror]</td>\n",
       "    </tr>\n",
       "    <tr>\n",
       "      <th>title</th>\n",
       "      <td>Avatar</td>\n",
       "      <td>Dracula: Dead and Loving It</td>\n",
       "    </tr>\n",
       "    <tr>\n",
       "      <th>popularity</th>\n",
       "      <td>185.070892</td>\n",
       "      <td>5.430331</td>\n",
       "    </tr>\n",
       "    <tr>\n",
       "      <th>production_countries</th>\n",
       "      <td>[US, GB]</td>\n",
       "      <td>[FR, US]</td>\n",
       "    </tr>\n",
       "    <tr>\n",
       "      <th>revenue</th>\n",
       "      <td>2787965087.0</td>\n",
       "      <td>0.0</td>\n",
       "    </tr>\n",
       "    <tr>\n",
       "      <th>runtime</th>\n",
       "      <td>162.0</td>\n",
       "      <td>88.0</td>\n",
       "    </tr>\n",
       "    <tr>\n",
       "      <th>original_language</th>\n",
       "      <td>en</td>\n",
       "      <td>en</td>\n",
       "    </tr>\n",
       "    <tr>\n",
       "      <th>score</th>\n",
       "      <td>7.17938</td>\n",
       "      <td>5.66463</td>\n",
       "    </tr>\n",
       "    <tr>\n",
       "      <th>profit</th>\n",
       "      <td>2550965087.0</td>\n",
       "      <td>0.0</td>\n",
       "    </tr>\n",
       "  </tbody>\n",
       "</table>\n",
       "</div>"
      ],
      "text/plain": [
       "                                             14551  \\\n",
       "budget                                 237000000.0   \n",
       "genres                [Action, Adventure, Fantasy]   \n",
       "title                                       Avatar   \n",
       "popularity                              185.070892   \n",
       "production_countries                      [US, GB]   \n",
       "revenue                               2787965087.0   \n",
       "runtime                                      162.0   \n",
       "original_language                               en   \n",
       "score                                      7.17938   \n",
       "profit                                2550965087.0   \n",
       "\n",
       "                                            11     \n",
       "budget                                        0.0  \n",
       "genres                           [Comedy, Horror]  \n",
       "title                 Dracula: Dead and Loving It  \n",
       "popularity                               5.430331  \n",
       "production_countries                     [FR, US]  \n",
       "revenue                                       0.0  \n",
       "runtime                                      88.0  \n",
       "original_language                              en  \n",
       "score                                     5.66463  \n",
       "profit                                        0.0  "
      ]
     },
     "execution_count": 110,
     "metadata": {},
     "output_type": "execute_result"
    }
   ],
   "source": [
    "calculate('revenue')"
   ]
  },
  {
   "cell_type": "markdown",
   "id": "41c0e11b",
   "metadata": {},
   "source": [
    "### 3. Top 10 movies based on profit"
   ]
  },
  {
   "cell_type": "code",
   "execution_count": 111,
   "id": "de0d9813",
   "metadata": {},
   "outputs": [
    {
     "data": {
      "text/html": [
       "<div>\n",
       "<style scoped>\n",
       "    .dataframe tbody tr th:only-of-type {\n",
       "        vertical-align: middle;\n",
       "    }\n",
       "\n",
       "    .dataframe tbody tr th {\n",
       "        vertical-align: top;\n",
       "    }\n",
       "\n",
       "    .dataframe thead th {\n",
       "        text-align: right;\n",
       "    }\n",
       "</style>\n",
       "<table border=\"1\" class=\"dataframe\">\n",
       "  <thead>\n",
       "    <tr style=\"text-align: right;\">\n",
       "      <th></th>\n",
       "      <th>budget</th>\n",
       "      <th>genres</th>\n",
       "      <th>title</th>\n",
       "      <th>popularity</th>\n",
       "      <th>production_countries</th>\n",
       "      <th>revenue</th>\n",
       "      <th>runtime</th>\n",
       "      <th>original_language</th>\n",
       "      <th>score</th>\n",
       "      <th>profit</th>\n",
       "    </tr>\n",
       "  </thead>\n",
       "  <tbody>\n",
       "    <tr>\n",
       "      <th>14551</th>\n",
       "      <td>237000000.0</td>\n",
       "      <td>[Action, Adventure, Fantasy]</td>\n",
       "      <td>Avatar</td>\n",
       "      <td>185.070892</td>\n",
       "      <td>[US, GB]</td>\n",
       "      <td>2.787965e+09</td>\n",
       "      <td>162.0</td>\n",
       "      <td>en</td>\n",
       "      <td>7.179380</td>\n",
       "      <td>2.550965e+09</td>\n",
       "    </tr>\n",
       "    <tr>\n",
       "      <th>26555</th>\n",
       "      <td>245000000.0</td>\n",
       "      <td>[Action, Adventure, Science Fiction]</td>\n",
       "      <td>Star Wars: The Force Awakens</td>\n",
       "      <td>31.626013</td>\n",
       "      <td>[US]</td>\n",
       "      <td>2.068224e+09</td>\n",
       "      <td>136.0</td>\n",
       "      <td>en</td>\n",
       "      <td>7.463070</td>\n",
       "      <td>1.823224e+09</td>\n",
       "    </tr>\n",
       "    <tr>\n",
       "      <th>1639</th>\n",
       "      <td>200000000.0</td>\n",
       "      <td>[Drama, Romance, Thriller]</td>\n",
       "      <td>Titanic</td>\n",
       "      <td>26.889070</td>\n",
       "      <td>[US]</td>\n",
       "      <td>1.845034e+09</td>\n",
       "      <td>194.0</td>\n",
       "      <td>en</td>\n",
       "      <td>7.462032</td>\n",
       "      <td>1.645034e+09</td>\n",
       "    </tr>\n",
       "    <tr>\n",
       "      <th>25084</th>\n",
       "      <td>150000000.0</td>\n",
       "      <td>[Action, Adventure, Science Fiction]</td>\n",
       "      <td>Jurassic World</td>\n",
       "      <td>32.790475</td>\n",
       "      <td>[US]</td>\n",
       "      <td>1.513529e+09</td>\n",
       "      <td>124.0</td>\n",
       "      <td>en</td>\n",
       "      <td>6.484327</td>\n",
       "      <td>1.363529e+09</td>\n",
       "    </tr>\n",
       "    <tr>\n",
       "      <th>28830</th>\n",
       "      <td>190000000.0</td>\n",
       "      <td>[Action]</td>\n",
       "      <td>Furious 7</td>\n",
       "      <td>27.275687</td>\n",
       "      <td>[JP, US]</td>\n",
       "      <td>1.506249e+09</td>\n",
       "      <td>137.0</td>\n",
       "      <td>en</td>\n",
       "      <td>7.239024</td>\n",
       "      <td>1.316249e+09</td>\n",
       "    </tr>\n",
       "    <tr>\n",
       "      <th>17818</th>\n",
       "      <td>220000000.0</td>\n",
       "      <td>[Science Fiction, Action, Adventure]</td>\n",
       "      <td>The Avengers</td>\n",
       "      <td>89.887648</td>\n",
       "      <td>[US]</td>\n",
       "      <td>1.519558e+09</td>\n",
       "      <td>143.0</td>\n",
       "      <td>en</td>\n",
       "      <td>7.376555</td>\n",
       "      <td>1.299558e+09</td>\n",
       "    </tr>\n",
       "    <tr>\n",
       "      <th>17437</th>\n",
       "      <td>125000000.0</td>\n",
       "      <td>[Family, Fantasy, Adventure]</td>\n",
       "      <td>Harry Potter and the Deathly Hallows: Part 2</td>\n",
       "      <td>24.990737</td>\n",
       "      <td>[GB, US]</td>\n",
       "      <td>1.342000e+09</td>\n",
       "      <td>130.0</td>\n",
       "      <td>en</td>\n",
       "      <td>7.842059</td>\n",
       "      <td>1.217000e+09</td>\n",
       "    </tr>\n",
       "    <tr>\n",
       "      <th>26558</th>\n",
       "      <td>280000000.0</td>\n",
       "      <td>[Action, Adventure, Science Fiction]</td>\n",
       "      <td>Avengers: Age of Ultron</td>\n",
       "      <td>37.379420</td>\n",
       "      <td>[US]</td>\n",
       "      <td>1.405404e+09</td>\n",
       "      <td>141.0</td>\n",
       "      <td>en</td>\n",
       "      <td>7.261929</td>\n",
       "      <td>1.125404e+09</td>\n",
       "    </tr>\n",
       "    <tr>\n",
       "      <th>22110</th>\n",
       "      <td>150000000.0</td>\n",
       "      <td>[Animation, Adventure, Family]</td>\n",
       "      <td>Frozen</td>\n",
       "      <td>24.248243</td>\n",
       "      <td>[US]</td>\n",
       "      <td>1.274219e+09</td>\n",
       "      <td>102.0</td>\n",
       "      <td>en</td>\n",
       "      <td>7.251949</td>\n",
       "      <td>1.124219e+09</td>\n",
       "    </tr>\n",
       "    <tr>\n",
       "      <th>42222</th>\n",
       "      <td>160000000.0</td>\n",
       "      <td>[Family, Fantasy, Romance]</td>\n",
       "      <td>Beauty and the Beast</td>\n",
       "      <td>287.253654</td>\n",
       "      <td>[GB, US]</td>\n",
       "      <td>1.262886e+09</td>\n",
       "      <td>129.0</td>\n",
       "      <td>en</td>\n",
       "      <td>6.766769</td>\n",
       "      <td>1.102886e+09</td>\n",
       "    </tr>\n",
       "  </tbody>\n",
       "</table>\n",
       "</div>"
      ],
      "text/plain": [
       "            budget                                genres  \\\n",
       "14551  237000000.0          [Action, Adventure, Fantasy]   \n",
       "26555  245000000.0  [Action, Adventure, Science Fiction]   \n",
       "1639   200000000.0            [Drama, Romance, Thriller]   \n",
       "25084  150000000.0  [Action, Adventure, Science Fiction]   \n",
       "28830  190000000.0                              [Action]   \n",
       "17818  220000000.0  [Science Fiction, Action, Adventure]   \n",
       "17437  125000000.0          [Family, Fantasy, Adventure]   \n",
       "26558  280000000.0  [Action, Adventure, Science Fiction]   \n",
       "22110  150000000.0        [Animation, Adventure, Family]   \n",
       "42222  160000000.0            [Family, Fantasy, Romance]   \n",
       "\n",
       "                                              title  popularity  \\\n",
       "14551                                        Avatar  185.070892   \n",
       "26555                  Star Wars: The Force Awakens   31.626013   \n",
       "1639                                        Titanic   26.889070   \n",
       "25084                                Jurassic World   32.790475   \n",
       "28830                                     Furious 7   27.275687   \n",
       "17818                                  The Avengers   89.887648   \n",
       "17437  Harry Potter and the Deathly Hallows: Part 2   24.990737   \n",
       "26558                       Avengers: Age of Ultron   37.379420   \n",
       "22110                                        Frozen   24.248243   \n",
       "42222                          Beauty and the Beast  287.253654   \n",
       "\n",
       "      production_countries       revenue  runtime original_language     score  \\\n",
       "14551             [US, GB]  2.787965e+09    162.0                en  7.179380   \n",
       "26555                 [US]  2.068224e+09    136.0                en  7.463070   \n",
       "1639                  [US]  1.845034e+09    194.0                en  7.462032   \n",
       "25084                 [US]  1.513529e+09    124.0                en  6.484327   \n",
       "28830             [JP, US]  1.506249e+09    137.0                en  7.239024   \n",
       "17818                 [US]  1.519558e+09    143.0                en  7.376555   \n",
       "17437             [GB, US]  1.342000e+09    130.0                en  7.842059   \n",
       "26558                 [US]  1.405404e+09    141.0                en  7.261929   \n",
       "22110                 [US]  1.274219e+09    102.0                en  7.251949   \n",
       "42222             [GB, US]  1.262886e+09    129.0                en  6.766769   \n",
       "\n",
       "             profit  \n",
       "14551  2.550965e+09  \n",
       "26555  1.823224e+09  \n",
       "1639   1.645034e+09  \n",
       "25084  1.363529e+09  \n",
       "28830  1.316249e+09  \n",
       "17818  1.299558e+09  \n",
       "17437  1.217000e+09  \n",
       "26558  1.125404e+09  \n",
       "22110  1.124219e+09  \n",
       "42222  1.102886e+09  "
      ]
     },
     "execution_count": 111,
     "metadata": {},
     "output_type": "execute_result"
    }
   ],
   "source": [
    "sorted_profit = df_movie.sort_values(by=\"profit\", ascending=False).head(10)\n",
    "sorted_profit"
   ]
  },
  {
   "cell_type": "code",
   "execution_count": 112,
   "id": "e7b8a80a",
   "metadata": {},
   "outputs": [
    {
     "name": "stderr",
     "output_type": "stream",
     "text": [
      "/Users/preethi/opt/anaconda3/lib/python3.9/site-packages/seaborn/_decorators.py:36: FutureWarning: Pass the following variables as keyword args: x, y. From version 0.12, the only valid positional argument will be `data`, and passing other arguments without an explicit keyword will result in an error or misinterpretation.\n",
      "  warnings.warn(\n"
     ]
    },
    {
     "data": {
      "image/png": "[encoded data removed]",
      "text/plain": [
       "<Figure size 720x504 with 1 Axes>"
      ]
     },
     "metadata": {},
     "output_type": "display_data"
    }
   ],
   "source": [
    "sb.set(rc={'figure.figsize':(10,7)}, font_scale=1.4)\n",
    "\n",
    "\n",
    "ax = sb.barplot(\n",
    "     df_movie.sort_values(by=\"profit\", ascending=False).head(10).title, \n",
    "     df_movie.sort_values(by=\"profit\", ascending=False).head(10).profit)\n",
    "\n",
    "\n",
    "#rotate x-axis' text\n",
    "for item in ax.get_xticklabels():\n",
    "    item.set_rotation(90)\n",
    "\n",
    "ax.set(xlabel='movie titles', ylabel='profit', title = 'Top 10 movies based on their profit')\n",
    "plt.show()"
   ]
  },
  {
   "cell_type": "markdown",
   "id": "5ef22726",
   "metadata": {},
   "source": [
    "### 4. Top 10 Movie Genres"
   ]
  },
  {
   "cell_type": "code",
   "execution_count": 34,
   "id": "9844846f",
   "metadata": {},
   "outputs": [
    {
     "ename": "TypeError",
     "evalue": "unhashable type: 'list'",
     "output_type": "error",
     "traceback": [
      "\u001b[0;31m---------------------------------------------------------------------------\u001b[0m",
      "\u001b[0;31mTypeError\u001b[0m                                 Traceback (most recent call last)",
      "\u001b[0;32mpandas/_libs/hashtable_class_helper.pxi\u001b[0m in \u001b[0;36mpandas._libs.hashtable.PyObjectHashTable.map_locations\u001b[0;34m()\u001b[0m\n",
      "\u001b[0;31mTypeError\u001b[0m: unhashable type: 'list'"
     ]
    },
    {
     "name": "stderr",
     "output_type": "stream",
     "text": [
      "Exception ignored in: 'pandas._libs.index.IndexEngine._call_map_locations'\n",
      "Traceback (most recent call last):\n",
      "  File \"pandas/_libs/hashtable_class_helper.pxi\", line 5231, in pandas._libs.hashtable.PyObjectHashTable.map_locations\n",
      "TypeError: unhashable type: 'list'\n"
     ]
    },
    {
     "data": {
      "text/plain": [
       "[Comedy]                    314\n",
       "[Drama]                     260\n",
       "[Drama, Romance]            116\n",
       "[Comedy, Romance]           104\n",
       "[Horror, Thriller]          101\n",
       "[Comedy, Drama]              96\n",
       "[Comedy, Drama, Romance]     84\n",
       "[Horror]                     62\n",
       "[Crime, Drama, Thriller]     60\n",
       "[Drama, Thriller]            57\n",
       "Name: genres, dtype: int64"
      ]
     },
     "execution_count": 34,
     "metadata": {},
     "output_type": "execute_result"
    }
   ],
   "source": [
    "df_movie['genres'].value_counts()[:10]\n",
    "\n"
   ]
  },
  {
   "cell_type": "code",
   "execution_count": 36,
   "id": "f8ef6d74",
   "metadata": {},
   "outputs": [
    {
     "data": {
      "image/png": "[encoded data removed]",
      "text/plain": [
       "<Figure size 720x504 with 1 Axes>"
      ]
     },
     "metadata": {
      "needs_background": "light"
     },
     "output_type": "display_data"
    }
   ],
   "source": [
    "df_movie['genres'].value_counts()[:10].sort_values().plot(kind= 'barh',figsize = (10,7))\n",
    "\n",
    "plt.xlabel('Movie Count', fontsize = 20)\n",
    "plt.ylabel('Genres', fontsize = 20);\n",
    "\n"
   ]
  },
  {
   "cell_type": "markdown",
   "id": "7a0e4cfd",
   "metadata": {},
   "source": [
    "### 5. Top 5 languages"
   ]
  },
  {
   "cell_type": "code",
   "execution_count": 40,
   "id": "12ea3a12",
   "metadata": {},
   "outputs": [
    {
     "data": {
      "text/plain": [
       "en    4077\n",
       "fr     177\n",
       "ja      65\n",
       "it      56\n",
       "es      38\n",
       "Name: original_language, dtype: int64"
      ]
     },
     "execution_count": 40,
     "metadata": {},
     "output_type": "execute_result"
    }
   ],
   "source": [
    "sorted_counts = df_movie['original_language'].value_counts().head(5)\n",
    "sorted_counts"
   ]
  },
  {
   "cell_type": "code",
   "execution_count": 43,
   "id": "ef21f2e1",
   "metadata": {},
   "outputs": [
    {
     "data": {
      "image/png": "[encoded data removed]",
      "text/plain": [
       "<Figure size 432x288 with 1 Axes>"
      ]
     },
     "metadata": {},
     "output_type": "display_data"
    }
   ],
   "source": [
    "plt.pie(sorted_counts, labels = sorted_counts.index, startangle = 50, counterclock = False)\n",
    "\n",
    "plt.title('Top 5 Languages',fontsize = 20)\n",
    "plt.xlabel('Movie Count', fontsize = 15)\n",
    "plt.ylabel('Language', fontsize = 15);\n",
    "\n",
    "\n"
   ]
  },
  {
   "cell_type": "markdown",
   "id": "2dd39add",
   "metadata": {},
   "source": [
    "### 6. Most Profitable Movie Language"
   ]
  },
  {
   "cell_type": "code",
   "execution_count": 183,
   "id": "046cc755",
   "metadata": {},
   "outputs": [
    {
     "name": "stderr",
     "output_type": "stream",
     "text": [
      "/Users/preethi/opt/anaconda3/lib/python3.9/site-packages/seaborn/_decorators.py:36: FutureWarning: Pass the following variables as keyword args: x, y. From version 0.12, the only valid positional argument will be `data`, and passing other arguments without an explicit keyword will result in an error or misinterpretation.\n",
      "  warnings.warn(\n"
     ]
    },
    {
     "data": {
      "image/png": "[encoded data removed]",
      "text/plain": [
       "<Figure size 720x504 with 1 Axes>"
      ]
     },
     "metadata": {},
     "output_type": "display_data"
    }
   ],
   "source": [
    "sb.pointplot(df_movie.sort_values(by=\"original_language\", ascending=False).head(10).profit, \n",
    "     df_movie.sort_values(by=\"original_language\", ascending=False).head(10).original_language)\n",
    "plt.xlabel('language')\n",
    "plt.title('Most Profitable Movie Language');"
   ]
  },
  {
   "cell_type": "markdown",
   "id": "965eaaf3",
   "metadata": {},
   "source": [
    "### 7.Top 10 Movie Language Based on Popularity And IMDb Score"
   ]
  },
  {
   "cell_type": "code",
   "execution_count": 192,
   "id": "c327dbb5",
   "metadata": {},
   "outputs": [
    {
     "data": {
      "text/plain": [
       "[Text(0, 0.5, 'Rating'),\n",
       " Text(0.5, 1.0, 'Top 10 Movie Language Based on Popularity And IMDb Score')]"
      ]
     },
     "execution_count": 192,
     "metadata": {},
     "output_type": "execute_result"
    },
    {
     "data": {
      "image/png": "[encoded data removed]",
      "text/plain": [
       "<Figure size 720x504 with 1 Axes>"
      ]
     },
     "metadata": {},
     "output_type": "display_data"
    }
   ],
   "source": [
    "f,ax=plt.subplots(figsize=(10, 7))\n",
    "df_movie[['original_language', 'popularity','score']].groupby(['original_language']).sum()[:10].sort_values([\"score\"], ascending=False).plot(kind=\"bar\",  ax=ax);\n",
    "ax.set(ylabel = 'Rating', title = 'Top 10 Movie Language Based on Popularity And IMDb Score')"
   ]
  },
  {
   "cell_type": "markdown",
   "id": "f417521f",
   "metadata": {},
   "source": [
    "### 8. Relationship Between Profit, Popularity and IMDb score"
   ]
  },
  {
   "cell_type": "code",
   "execution_count": 44,
   "id": "7b288c6d",
   "metadata": {},
   "outputs": [],
   "source": [
    "df = df_movie[['profit','popularity', 'score','runtime']]\n",
    "\n",
    "sb.set(rc={'figure.figsize':(15,15)}, font_scale=1.3, style=\"ticks\")"
   ]
  },
  {
   "cell_type": "code",
   "execution_count": 47,
   "id": "32fdf06b",
   "metadata": {},
   "outputs": [
    {
     "data": {
      "image/png": "[encoded data removed]",
      "text/plain": [
       "<Figure size 720x720 with 20 Axes>"
      ]
     },
     "metadata": {},
     "output_type": "display_data"
    }
   ],
   "source": [
    "f1 = sb.pairplot(df, kind=\"reg\", diag_kind=\"kde\", diag_kws=dict(shade=True))\n",
    "\n",
    "f1.fig.tight_layout(rect=[0, 0.03, 1, 0.95])"
   ]
  },
  {
   "cell_type": "code",
   "execution_count": 46,
   "id": "8b5d87cf",
   "metadata": {},
   "outputs": [
    {
     "data": {
      "text/plain": [
       "<AxesSubplot:>"
      ]
     },
     "execution_count": 46,
     "metadata": {},
     "output_type": "execute_result"
    },
    {
     "data": {
      "image/png": "[encoded data removed]",
      "text/plain": [
       "<Figure size 720x504 with 2 Axes>"
      ]
     },
     "metadata": {},
     "output_type": "display_data"
    }
   ],
   "source": [
    "# correlation plot \n",
    "plt.figure(figsize=[10,7]);\n",
    "#  select the Numerical variables \n",
    "df = df_movie[['profit','popularity', 'score','runtime']]\n",
    "\n",
    "# Use cmap to reverse the color map. \n",
    "sb.heatmap(df.corr(), annot = True, fmt = '.2f', cmap = 'vlag_r', center = 0)\n"
   ]
  },
  {
   "cell_type": "markdown",
   "id": "909d331d",
   "metadata": {},
   "source": [
    "### 9.Top 5 Movies Based on Popularity and IMDb score"
   ]
  },
  {
   "cell_type": "code",
   "execution_count": 157,
   "id": "e85e47e6",
   "metadata": {},
   "outputs": [
    {
     "data": {
      "image/png": "[encoded data removed]",
      "text/plain": [
       "<Figure size 1080x504 with 1 Axes>"
      ]
     },
     "metadata": {},
     "output_type": "display_data"
    }
   ],
   "source": [
    "f,ax=plt.subplots(figsize=(15, 7))\n",
    "df_movie[['title', 'popularity', 'score']].groupby(['title']).sum()[:5].sort_values([\"popularity\"], ascending=False).plot(kind=\"bar\",  ax=ax);\n",
    "plt.xticks(rotation=90,fontsize=15)\n",
    "\n",
    "ax.set(ylabel = 'popularity', title = 'Top 5 Movies Based on Popularity and IMDb score')\n",
    "\n",
    "plt.show()"
   ]
  },
  {
   "cell_type": "code",
   "execution_count": 48,
   "id": "638e478e",
   "metadata": {},
   "outputs": [
    {
     "data": {
      "text/html": [
       "<div>\n",
       "<style scoped>\n",
       "    .dataframe tbody tr th:only-of-type {\n",
       "        vertical-align: middle;\n",
       "    }\n",
       "\n",
       "    .dataframe tbody tr th {\n",
       "        vertical-align: top;\n",
       "    }\n",
       "\n",
       "    .dataframe thead th {\n",
       "        text-align: right;\n",
       "    }\n",
       "</style>\n",
       "<table border=\"1\" class=\"dataframe\">\n",
       "  <thead>\n",
       "    <tr style=\"text-align: right;\">\n",
       "      <th></th>\n",
       "      <th>popularity</th>\n",
       "      <th>score</th>\n",
       "    </tr>\n",
       "    <tr>\n",
       "      <th>title</th>\n",
       "      <th></th>\n",
       "      <th></th>\n",
       "    </tr>\n",
       "  </thead>\n",
       "  <tbody>\n",
       "    <tr>\n",
       "      <th>(500) Days of Summer</th>\n",
       "      <td>16.376657</td>\n",
       "      <td>7.119731</td>\n",
       "    </tr>\n",
       "    <tr>\n",
       "      <th>10 Cloverfield Lane</th>\n",
       "      <td>14.421528</td>\n",
       "      <td>6.729890</td>\n",
       "    </tr>\n",
       "    <tr>\n",
       "      <th>10 Things I Hate About You</th>\n",
       "      <td>12.069966</td>\n",
       "      <td>7.160432</td>\n",
       "    </tr>\n",
       "    <tr>\n",
       "      <th>10 Years</th>\n",
       "      <td>8.881954</td>\n",
       "      <td>5.659231</td>\n",
       "    </tr>\n",
       "    <tr>\n",
       "      <th>'71</th>\n",
       "      <td>7.080550</td>\n",
       "      <td>6.398455</td>\n",
       "    </tr>\n",
       "  </tbody>\n",
       "</table>\n",
       "</div>"
      ],
      "text/plain": [
       "                            popularity     score\n",
       "title                                           \n",
       "(500) Days of Summer         16.376657  7.119731\n",
       "10 Cloverfield Lane          14.421528  6.729890\n",
       "10 Things I Hate About You   12.069966  7.160432\n",
       "10 Years                      8.881954  5.659231\n",
       "'71                           7.080550  6.398455"
      ]
     },
     "execution_count": 48,
     "metadata": {},
     "output_type": "execute_result"
    }
   ],
   "source": [
    "df_movie[['title', 'popularity', 'score']].groupby(['title']).sum()[:5].sort_values([\"popularity\"], ascending=False)\n"
   ]
  },
  {
   "cell_type": "code",
   "execution_count": null,
   "id": "3a9b3803",
   "metadata": {},
   "outputs": [],
   "source": []
  }
 ],
 "metadata": {
  "kernelspec": {
   "display_name": "Python 3 (ipykernel)",
   "language": "python",
   "name": "python3"
  },
  "language_info": {
   "codemirror_mode": {
    "name": "ipython",
    "version": 3
   },
   "file_extension": ".py",
   "mimetype": "text/x-python",
   "name": "python",
   "nbconvert_exporter": "python",
   "pygments_lexer": "ipython3",
   "version": "3.9.7"
  }
 },
 "nbformat": 4,
 "nbformat_minor": 5
}
